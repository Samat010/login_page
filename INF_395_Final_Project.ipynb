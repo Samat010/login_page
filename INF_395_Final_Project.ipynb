{
  "nbformat": 4,
  "nbformat_minor": 0,
  "metadata": {
    "colab": {
      "provenance": [],
      "authorship_tag": "ABX9TyNHQkHEV+lXtm+MwZzeH+jS",
      "include_colab_link": true
    },
    "kernelspec": {
      "name": "python3",
      "display_name": "Python 3"
    },
    "language_info": {
      "name": "python"
    }
  },
  "cells": [
    {
      "cell_type": "markdown",
      "metadata": {
        "id": "view-in-github",
        "colab_type": "text"
      },
      "source": [
        "<a href=\"https://colab.research.google.com/github/Samat010/login_page/blob/main/INF_395_Final_Project.ipynb\" target=\"_parent\"><img src=\"https://colab.research.google.com/assets/colab-badge.svg\" alt=\"Open In Colab\"/></a>"
      ]
    },
    {
      "cell_type": "code",
      "execution_count": 3,
      "metadata": {
        "id": "G1ehv09f-cfo"
      },
      "outputs": [],
      "source": [
        "from pyspark.sql import SparkSession\n",
        "from pyspark.sql.functions import col, when\n",
        "import seaborn as sns\n",
        "import matplotlib.pyplot as plt\n",
        "spark = SparkSession.builder.getOrCreate()\n",
        "\n",
        "df = spark.read.csv('/content/events.csv', header=True, inferSchema=True)\n"
      ]
    },
    {
      "cell_type": "markdown",
      "source": [
        "# Новый раздел"
      ],
      "metadata": {
        "id": "rZHXOaWBu035"
      }
    },
    {
      "cell_type": "code",
      "source": [
        "df_pd = df.toPandas()\n",
        "df_pd.info()"
      ],
      "metadata": {
        "colab": {
          "base_uri": "https://localhost:8080/"
        },
        "id": "PB27b8Gis2UM",
        "outputId": "87a63d17-8931-486e-9d74-d5f5b10be728"
      },
      "execution_count": 4,
      "outputs": [
        {
          "output_type": "stream",
          "name": "stdout",
          "text": [
            "<class 'pandas.core.frame.DataFrame'>\n",
            "RangeIndex: 941009 entries, 0 to 941008\n",
            "Data columns (total 22 columns):\n",
            " #   Column         Non-Null Count   Dtype \n",
            "---  ------         --------------   ----- \n",
            " 0   id_odsp        941009 non-null  object\n",
            " 1   id_event       941009 non-null  object\n",
            " 2   sort_order     941009 non-null  int32 \n",
            " 3   time           941009 non-null  int32 \n",
            " 4   text           941009 non-null  object\n",
            " 5   event_type     941009 non-null  int32 \n",
            " 6   event_type2    941009 non-null  object\n",
            " 7   side           941009 non-null  int32 \n",
            " 8   event_team     941009 non-null  object\n",
            " 9   opponent       941009 non-null  object\n",
            " 10  player         940745 non-null  object\n",
            " 11  player2        941006 non-null  object\n",
            " 12  player_in      941009 non-null  object\n",
            " 13  player_out     941009 non-null  object\n",
            " 14  shot_place     941009 non-null  object\n",
            " 15  shot_outcome   941009 non-null  object\n",
            " 16  is_goal        941009 non-null  int32 \n",
            " 17  location       941009 non-null  object\n",
            " 18  bodypart       941009 non-null  object\n",
            " 19  assist_method  941009 non-null  int32 \n",
            " 20  situation      941009 non-null  object\n",
            " 21  fast_break     941009 non-null  int32 \n",
            "dtypes: int32(7), object(15)\n",
            "memory usage: 132.8+ MB\n"
          ]
        }
      ]
    },
    {
      "cell_type": "code",
      "source": [],
      "metadata": {
        "id": "AO-nesZI0FLP"
      },
      "execution_count": null,
      "outputs": []
    },
    {
      "cell_type": "markdown",
      "source": [],
      "metadata": {
        "id": "Kxn1yh530Ip-"
      }
    },
    {
      "cell_type": "code",
      "source": [
        "df_pd"
      ],
      "metadata": {
        "colab": {
          "base_uri": "https://localhost:8080/",
          "height": 1000
        },
        "id": "ldNYAlx5s2_f",
        "outputId": "07908de5-4d98-4c3d-a4a0-74abb8f6f7b6"
      },
      "execution_count": 5,
      "outputs": [
        {
          "output_type": "execute_result",
          "data": {
            "text/plain": [
              "          id_odsp     id_event  sort_order  time  \\\n",
              "0       UFot0hit/    UFot0hit1           1     2   \n",
              "1       UFot0hit/    UFot0hit2           2     4   \n",
              "2       UFot0hit/    UFot0hit3           3     4   \n",
              "3       UFot0hit/    UFot0hit4           4     7   \n",
              "4       UFot0hit/    UFot0hit5           5     7   \n",
              "...           ...          ...         ...   ...   \n",
              "941004  z5L2OT5E/  z5L2OT5E123         123    92   \n",
              "941005  z5L2OT5E/  z5L2OT5E124         124    93   \n",
              "941006  z5L2OT5E/  z5L2OT5E125         125    93   \n",
              "941007  z5L2OT5E/  z5L2OT5E126         126    94   \n",
              "941008  z5L2OT5E/  z5L2OT5E127         127    94   \n",
              "\n",
              "                                                     text  event_type  \\\n",
              "0       Attempt missed. Mladen Petric (Hamburg) left f...           1   \n",
              "1       Corner,  Borussia Dortmund. Conceded by Dennis...           2   \n",
              "2       Corner,  Borussia Dortmund. Conceded by Heiko ...           2   \n",
              "3                Foul by Sven Bender (Borussia Dortmund).           3   \n",
              "4       Gokhan Tore (Hamburg) wins a free kick in the ...           8   \n",
              "...                                                   ...         ...   \n",
              "941004  Lucas Torreira (Sampdoria) wins a free kick in...           8   \n",
              "941005   Corner,  Sampdoria. Conceded by Andrea Masiello.           2   \n",
              "941006  Attempt missed. Fabio Quagliarella (Sampdoria)...           1   \n",
              "941007  Alberto Grassi (Atalanta) wins a free kick on ...           8   \n",
              "941008                 Foul by Pedro Pereira (Sampdoria).           3   \n",
              "\n",
              "       event_type2  side         event_team           opponent  ... player_in  \\\n",
              "0               12     2         Hamburg SV  Borussia Dortmund  ...        NA   \n",
              "1               NA     1  Borussia Dortmund         Hamburg SV  ...        NA   \n",
              "2               NA     1  Borussia Dortmund         Hamburg SV  ...        NA   \n",
              "3               NA     1  Borussia Dortmund         Hamburg SV  ...        NA   \n",
              "4               NA     2         Hamburg SV  Borussia Dortmund  ...        NA   \n",
              "...            ...   ...                ...                ...  ...       ...   \n",
              "941004          NA     2          Sampdoria           Atalanta  ...        NA   \n",
              "941005          NA     2          Sampdoria           Atalanta  ...        NA   \n",
              "941006          12     2          Sampdoria           Atalanta  ...        NA   \n",
              "941007          NA     1           Atalanta          Sampdoria  ...        NA   \n",
              "941008          NA     2          Sampdoria           Atalanta  ...        NA   \n",
              "\n",
              "       player_out shot_place shot_outcome is_goal location  bodypart  \\\n",
              "0              NA          6            2       0        9         2   \n",
              "1              NA         NA           NA       0       NA        NA   \n",
              "2              NA         NA           NA       0       NA        NA   \n",
              "3              NA         NA           NA       0       NA        NA   \n",
              "4              NA         NA           NA       0        2        NA   \n",
              "...           ...        ...          ...     ...      ...       ...   \n",
              "941004         NA         NA           NA       0        2        NA   \n",
              "941005         NA         NA           NA       0       NA        NA   \n",
              "941006         NA          8            2       0        9         1   \n",
              "941007         NA         NA           NA       0        4        NA   \n",
              "941008         NA         NA           NA       0       NA        NA   \n",
              "\n",
              "       assist_method situation  fast_break  \n",
              "0                  1         1           0  \n",
              "1                  0        NA           0  \n",
              "2                  0        NA           0  \n",
              "3                  0        NA           0  \n",
              "4                  0        NA           0  \n",
              "...              ...       ...         ...  \n",
              "941004             0        NA           0  \n",
              "941005             0        NA           0  \n",
              "941006             1         3           0  \n",
              "941007             0        NA           0  \n",
              "941008             0        NA           0  \n",
              "\n",
              "[941009 rows x 22 columns]"
            ],
            "text/html": [
              "\n",
              "  <div id=\"df-456ff206-2114-4c7b-890c-d75f11e48c68\" class=\"colab-df-container\">\n",
              "    <div>\n",
              "<style scoped>\n",
              "    .dataframe tbody tr th:only-of-type {\n",
              "        vertical-align: middle;\n",
              "    }\n",
              "\n",
              "    .dataframe tbody tr th {\n",
              "        vertical-align: top;\n",
              "    }\n",
              "\n",
              "    .dataframe thead th {\n",
              "        text-align: right;\n",
              "    }\n",
              "</style>\n",
              "<table border=\"1\" class=\"dataframe\">\n",
              "  <thead>\n",
              "    <tr style=\"text-align: right;\">\n",
              "      <th></th>\n",
              "      <th>id_odsp</th>\n",
              "      <th>id_event</th>\n",
              "      <th>sort_order</th>\n",
              "      <th>time</th>\n",
              "      <th>text</th>\n",
              "      <th>event_type</th>\n",
              "      <th>event_type2</th>\n",
              "      <th>side</th>\n",
              "      <th>event_team</th>\n",
              "      <th>opponent</th>\n",
              "      <th>...</th>\n",
              "      <th>player_in</th>\n",
              "      <th>player_out</th>\n",
              "      <th>shot_place</th>\n",
              "      <th>shot_outcome</th>\n",
              "      <th>is_goal</th>\n",
              "      <th>location</th>\n",
              "      <th>bodypart</th>\n",
              "      <th>assist_method</th>\n",
              "      <th>situation</th>\n",
              "      <th>fast_break</th>\n",
              "    </tr>\n",
              "  </thead>\n",
              "  <tbody>\n",
              "    <tr>\n",
              "      <th>0</th>\n",
              "      <td>UFot0hit/</td>\n",
              "      <td>UFot0hit1</td>\n",
              "      <td>1</td>\n",
              "      <td>2</td>\n",
              "      <td>Attempt missed. Mladen Petric (Hamburg) left f...</td>\n",
              "      <td>1</td>\n",
              "      <td>12</td>\n",
              "      <td>2</td>\n",
              "      <td>Hamburg SV</td>\n",
              "      <td>Borussia Dortmund</td>\n",
              "      <td>...</td>\n",
              "      <td>NA</td>\n",
              "      <td>NA</td>\n",
              "      <td>6</td>\n",
              "      <td>2</td>\n",
              "      <td>0</td>\n",
              "      <td>9</td>\n",
              "      <td>2</td>\n",
              "      <td>1</td>\n",
              "      <td>1</td>\n",
              "      <td>0</td>\n",
              "    </tr>\n",
              "    <tr>\n",
              "      <th>1</th>\n",
              "      <td>UFot0hit/</td>\n",
              "      <td>UFot0hit2</td>\n",
              "      <td>2</td>\n",
              "      <td>4</td>\n",
              "      <td>Corner,  Borussia Dortmund. Conceded by Dennis...</td>\n",
              "      <td>2</td>\n",
              "      <td>NA</td>\n",
              "      <td>1</td>\n",
              "      <td>Borussia Dortmund</td>\n",
              "      <td>Hamburg SV</td>\n",
              "      <td>...</td>\n",
              "      <td>NA</td>\n",
              "      <td>NA</td>\n",
              "      <td>NA</td>\n",
              "      <td>NA</td>\n",
              "      <td>0</td>\n",
              "      <td>NA</td>\n",
              "      <td>NA</td>\n",
              "      <td>0</td>\n",
              "      <td>NA</td>\n",
              "      <td>0</td>\n",
              "    </tr>\n",
              "    <tr>\n",
              "      <th>2</th>\n",
              "      <td>UFot0hit/</td>\n",
              "      <td>UFot0hit3</td>\n",
              "      <td>3</td>\n",
              "      <td>4</td>\n",
              "      <td>Corner,  Borussia Dortmund. Conceded by Heiko ...</td>\n",
              "      <td>2</td>\n",
              "      <td>NA</td>\n",
              "      <td>1</td>\n",
              "      <td>Borussia Dortmund</td>\n",
              "      <td>Hamburg SV</td>\n",
              "      <td>...</td>\n",
              "      <td>NA</td>\n",
              "      <td>NA</td>\n",
              "      <td>NA</td>\n",
              "      <td>NA</td>\n",
              "      <td>0</td>\n",
              "      <td>NA</td>\n",
              "      <td>NA</td>\n",
              "      <td>0</td>\n",
              "      <td>NA</td>\n",
              "      <td>0</td>\n",
              "    </tr>\n",
              "    <tr>\n",
              "      <th>3</th>\n",
              "      <td>UFot0hit/</td>\n",
              "      <td>UFot0hit4</td>\n",
              "      <td>4</td>\n",
              "      <td>7</td>\n",
              "      <td>Foul by Sven Bender (Borussia Dortmund).</td>\n",
              "      <td>3</td>\n",
              "      <td>NA</td>\n",
              "      <td>1</td>\n",
              "      <td>Borussia Dortmund</td>\n",
              "      <td>Hamburg SV</td>\n",
              "      <td>...</td>\n",
              "      <td>NA</td>\n",
              "      <td>NA</td>\n",
              "      <td>NA</td>\n",
              "      <td>NA</td>\n",
              "      <td>0</td>\n",
              "      <td>NA</td>\n",
              "      <td>NA</td>\n",
              "      <td>0</td>\n",
              "      <td>NA</td>\n",
              "      <td>0</td>\n",
              "    </tr>\n",
              "    <tr>\n",
              "      <th>4</th>\n",
              "      <td>UFot0hit/</td>\n",
              "      <td>UFot0hit5</td>\n",
              "      <td>5</td>\n",
              "      <td>7</td>\n",
              "      <td>Gokhan Tore (Hamburg) wins a free kick in the ...</td>\n",
              "      <td>8</td>\n",
              "      <td>NA</td>\n",
              "      <td>2</td>\n",
              "      <td>Hamburg SV</td>\n",
              "      <td>Borussia Dortmund</td>\n",
              "      <td>...</td>\n",
              "      <td>NA</td>\n",
              "      <td>NA</td>\n",
              "      <td>NA</td>\n",
              "      <td>NA</td>\n",
              "      <td>0</td>\n",
              "      <td>2</td>\n",
              "      <td>NA</td>\n",
              "      <td>0</td>\n",
              "      <td>NA</td>\n",
              "      <td>0</td>\n",
              "    </tr>\n",
              "    <tr>\n",
              "      <th>...</th>\n",
              "      <td>...</td>\n",
              "      <td>...</td>\n",
              "      <td>...</td>\n",
              "      <td>...</td>\n",
              "      <td>...</td>\n",
              "      <td>...</td>\n",
              "      <td>...</td>\n",
              "      <td>...</td>\n",
              "      <td>...</td>\n",
              "      <td>...</td>\n",
              "      <td>...</td>\n",
              "      <td>...</td>\n",
              "      <td>...</td>\n",
              "      <td>...</td>\n",
              "      <td>...</td>\n",
              "      <td>...</td>\n",
              "      <td>...</td>\n",
              "      <td>...</td>\n",
              "      <td>...</td>\n",
              "      <td>...</td>\n",
              "      <td>...</td>\n",
              "    </tr>\n",
              "    <tr>\n",
              "      <th>941004</th>\n",
              "      <td>z5L2OT5E/</td>\n",
              "      <td>z5L2OT5E123</td>\n",
              "      <td>123</td>\n",
              "      <td>92</td>\n",
              "      <td>Lucas Torreira (Sampdoria) wins a free kick in...</td>\n",
              "      <td>8</td>\n",
              "      <td>NA</td>\n",
              "      <td>2</td>\n",
              "      <td>Sampdoria</td>\n",
              "      <td>Atalanta</td>\n",
              "      <td>...</td>\n",
              "      <td>NA</td>\n",
              "      <td>NA</td>\n",
              "      <td>NA</td>\n",
              "      <td>NA</td>\n",
              "      <td>0</td>\n",
              "      <td>2</td>\n",
              "      <td>NA</td>\n",
              "      <td>0</td>\n",
              "      <td>NA</td>\n",
              "      <td>0</td>\n",
              "    </tr>\n",
              "    <tr>\n",
              "      <th>941005</th>\n",
              "      <td>z5L2OT5E/</td>\n",
              "      <td>z5L2OT5E124</td>\n",
              "      <td>124</td>\n",
              "      <td>93</td>\n",
              "      <td>Corner,  Sampdoria. Conceded by Andrea Masiello.</td>\n",
              "      <td>2</td>\n",
              "      <td>NA</td>\n",
              "      <td>2</td>\n",
              "      <td>Sampdoria</td>\n",
              "      <td>Atalanta</td>\n",
              "      <td>...</td>\n",
              "      <td>NA</td>\n",
              "      <td>NA</td>\n",
              "      <td>NA</td>\n",
              "      <td>NA</td>\n",
              "      <td>0</td>\n",
              "      <td>NA</td>\n",
              "      <td>NA</td>\n",
              "      <td>0</td>\n",
              "      <td>NA</td>\n",
              "      <td>0</td>\n",
              "    </tr>\n",
              "    <tr>\n",
              "      <th>941006</th>\n",
              "      <td>z5L2OT5E/</td>\n",
              "      <td>z5L2OT5E125</td>\n",
              "      <td>125</td>\n",
              "      <td>93</td>\n",
              "      <td>Attempt missed. Fabio Quagliarella (Sampdoria)...</td>\n",
              "      <td>1</td>\n",
              "      <td>12</td>\n",
              "      <td>2</td>\n",
              "      <td>Sampdoria</td>\n",
              "      <td>Atalanta</td>\n",
              "      <td>...</td>\n",
              "      <td>NA</td>\n",
              "      <td>NA</td>\n",
              "      <td>8</td>\n",
              "      <td>2</td>\n",
              "      <td>0</td>\n",
              "      <td>9</td>\n",
              "      <td>1</td>\n",
              "      <td>1</td>\n",
              "      <td>3</td>\n",
              "      <td>0</td>\n",
              "    </tr>\n",
              "    <tr>\n",
              "      <th>941007</th>\n",
              "      <td>z5L2OT5E/</td>\n",
              "      <td>z5L2OT5E126</td>\n",
              "      <td>126</td>\n",
              "      <td>94</td>\n",
              "      <td>Alberto Grassi (Atalanta) wins a free kick on ...</td>\n",
              "      <td>8</td>\n",
              "      <td>NA</td>\n",
              "      <td>1</td>\n",
              "      <td>Atalanta</td>\n",
              "      <td>Sampdoria</td>\n",
              "      <td>...</td>\n",
              "      <td>NA</td>\n",
              "      <td>NA</td>\n",
              "      <td>NA</td>\n",
              "      <td>NA</td>\n",
              "      <td>0</td>\n",
              "      <td>4</td>\n",
              "      <td>NA</td>\n",
              "      <td>0</td>\n",
              "      <td>NA</td>\n",
              "      <td>0</td>\n",
              "    </tr>\n",
              "    <tr>\n",
              "      <th>941008</th>\n",
              "      <td>z5L2OT5E/</td>\n",
              "      <td>z5L2OT5E127</td>\n",
              "      <td>127</td>\n",
              "      <td>94</td>\n",
              "      <td>Foul by Pedro Pereira (Sampdoria).</td>\n",
              "      <td>3</td>\n",
              "      <td>NA</td>\n",
              "      <td>2</td>\n",
              "      <td>Sampdoria</td>\n",
              "      <td>Atalanta</td>\n",
              "      <td>...</td>\n",
              "      <td>NA</td>\n",
              "      <td>NA</td>\n",
              "      <td>NA</td>\n",
              "      <td>NA</td>\n",
              "      <td>0</td>\n",
              "      <td>NA</td>\n",
              "      <td>NA</td>\n",
              "      <td>0</td>\n",
              "      <td>NA</td>\n",
              "      <td>0</td>\n",
              "    </tr>\n",
              "  </tbody>\n",
              "</table>\n",
              "<p>941009 rows × 22 columns</p>\n",
              "</div>\n",
              "    <div class=\"colab-df-buttons\">\n",
              "\n",
              "  <div class=\"colab-df-container\">\n",
              "    <button class=\"colab-df-convert\" onclick=\"convertToInteractive('df-456ff206-2114-4c7b-890c-d75f11e48c68')\"\n",
              "            title=\"Convert this dataframe to an interactive table.\"\n",
              "            style=\"display:none;\">\n",
              "\n",
              "  <svg xmlns=\"http://www.w3.org/2000/svg\" height=\"24px\" viewBox=\"0 -960 960 960\">\n",
              "    <path d=\"M120-120v-720h720v720H120Zm60-500h600v-160H180v160Zm220 220h160v-160H400v160Zm0 220h160v-160H400v160ZM180-400h160v-160H180v160Zm440 0h160v-160H620v160ZM180-180h160v-160H180v160Zm440 0h160v-160H620v160Z\"/>\n",
              "  </svg>\n",
              "    </button>\n",
              "\n",
              "  <style>\n",
              "    .colab-df-container {\n",
              "      display:flex;\n",
              "      gap: 12px;\n",
              "    }\n",
              "\n",
              "    .colab-df-convert {\n",
              "      background-color: #E8F0FE;\n",
              "      border: none;\n",
              "      border-radius: 50%;\n",
              "      cursor: pointer;\n",
              "      display: none;\n",
              "      fill: #1967D2;\n",
              "      height: 32px;\n",
              "      padding: 0 0 0 0;\n",
              "      width: 32px;\n",
              "    }\n",
              "\n",
              "    .colab-df-convert:hover {\n",
              "      background-color: #E2EBFA;\n",
              "      box-shadow: 0px 1px 2px rgba(60, 64, 67, 0.3), 0px 1px 3px 1px rgba(60, 64, 67, 0.15);\n",
              "      fill: #174EA6;\n",
              "    }\n",
              "\n",
              "    .colab-df-buttons div {\n",
              "      margin-bottom: 4px;\n",
              "    }\n",
              "\n",
              "    [theme=dark] .colab-df-convert {\n",
              "      background-color: #3B4455;\n",
              "      fill: #D2E3FC;\n",
              "    }\n",
              "\n",
              "    [theme=dark] .colab-df-convert:hover {\n",
              "      background-color: #434B5C;\n",
              "      box-shadow: 0px 1px 3px 1px rgba(0, 0, 0, 0.15);\n",
              "      filter: drop-shadow(0px 1px 2px rgba(0, 0, 0, 0.3));\n",
              "      fill: #FFFFFF;\n",
              "    }\n",
              "  </style>\n",
              "\n",
              "    <script>\n",
              "      const buttonEl =\n",
              "        document.querySelector('#df-456ff206-2114-4c7b-890c-d75f11e48c68 button.colab-df-convert');\n",
              "      buttonEl.style.display =\n",
              "        google.colab.kernel.accessAllowed ? 'block' : 'none';\n",
              "\n",
              "      async function convertToInteractive(key) {\n",
              "        const element = document.querySelector('#df-456ff206-2114-4c7b-890c-d75f11e48c68');\n",
              "        const dataTable =\n",
              "          await google.colab.kernel.invokeFunction('convertToInteractive',\n",
              "                                                    [key], {});\n",
              "        if (!dataTable) return;\n",
              "\n",
              "        const docLinkHtml = 'Like what you see? Visit the ' +\n",
              "          '<a target=\"_blank\" href=https://colab.research.google.com/notebooks/data_table.ipynb>data table notebook</a>'\n",
              "          + ' to learn more about interactive tables.';\n",
              "        element.innerHTML = '';\n",
              "        dataTable['output_type'] = 'display_data';\n",
              "        await google.colab.output.renderOutput(dataTable, element);\n",
              "        const docLink = document.createElement('div');\n",
              "        docLink.innerHTML = docLinkHtml;\n",
              "        element.appendChild(docLink);\n",
              "      }\n",
              "    </script>\n",
              "  </div>\n",
              "\n",
              "\n",
              "    <div id=\"df-4afab452-c022-4491-bf51-c142b4514957\">\n",
              "      <button class=\"colab-df-quickchart\" onclick=\"quickchart('df-4afab452-c022-4491-bf51-c142b4514957')\"\n",
              "                title=\"Suggest charts\"\n",
              "                style=\"display:none;\">\n",
              "\n",
              "<svg xmlns=\"http://www.w3.org/2000/svg\" height=\"24px\"viewBox=\"0 0 24 24\"\n",
              "     width=\"24px\">\n",
              "    <g>\n",
              "        <path d=\"M19 3H5c-1.1 0-2 .9-2 2v14c0 1.1.9 2 2 2h14c1.1 0 2-.9 2-2V5c0-1.1-.9-2-2-2zM9 17H7v-7h2v7zm4 0h-2V7h2v10zm4 0h-2v-4h2v4z\"/>\n",
              "    </g>\n",
              "</svg>\n",
              "      </button>\n",
              "\n",
              "<style>\n",
              "  .colab-df-quickchart {\n",
              "      --bg-color: #E8F0FE;\n",
              "      --fill-color: #1967D2;\n",
              "      --hover-bg-color: #E2EBFA;\n",
              "      --hover-fill-color: #174EA6;\n",
              "      --disabled-fill-color: #AAA;\n",
              "      --disabled-bg-color: #DDD;\n",
              "  }\n",
              "\n",
              "  [theme=dark] .colab-df-quickchart {\n",
              "      --bg-color: #3B4455;\n",
              "      --fill-color: #D2E3FC;\n",
              "      --hover-bg-color: #434B5C;\n",
              "      --hover-fill-color: #FFFFFF;\n",
              "      --disabled-bg-color: #3B4455;\n",
              "      --disabled-fill-color: #666;\n",
              "  }\n",
              "\n",
              "  .colab-df-quickchart {\n",
              "    background-color: var(--bg-color);\n",
              "    border: none;\n",
              "    border-radius: 50%;\n",
              "    cursor: pointer;\n",
              "    display: none;\n",
              "    fill: var(--fill-color);\n",
              "    height: 32px;\n",
              "    padding: 0;\n",
              "    width: 32px;\n",
              "  }\n",
              "\n",
              "  .colab-df-quickchart:hover {\n",
              "    background-color: var(--hover-bg-color);\n",
              "    box-shadow: 0 1px 2px rgba(60, 64, 67, 0.3), 0 1px 3px 1px rgba(60, 64, 67, 0.15);\n",
              "    fill: var(--button-hover-fill-color);\n",
              "  }\n",
              "\n",
              "  .colab-df-quickchart-complete:disabled,\n",
              "  .colab-df-quickchart-complete:disabled:hover {\n",
              "    background-color: var(--disabled-bg-color);\n",
              "    fill: var(--disabled-fill-color);\n",
              "    box-shadow: none;\n",
              "  }\n",
              "\n",
              "  .colab-df-spinner {\n",
              "    border: 2px solid var(--fill-color);\n",
              "    border-color: transparent;\n",
              "    border-bottom-color: var(--fill-color);\n",
              "    animation:\n",
              "      spin 1s steps(1) infinite;\n",
              "  }\n",
              "\n",
              "  @keyframes spin {\n",
              "    0% {\n",
              "      border-color: transparent;\n",
              "      border-bottom-color: var(--fill-color);\n",
              "      border-left-color: var(--fill-color);\n",
              "    }\n",
              "    20% {\n",
              "      border-color: transparent;\n",
              "      border-left-color: var(--fill-color);\n",
              "      border-top-color: var(--fill-color);\n",
              "    }\n",
              "    30% {\n",
              "      border-color: transparent;\n",
              "      border-left-color: var(--fill-color);\n",
              "      border-top-color: var(--fill-color);\n",
              "      border-right-color: var(--fill-color);\n",
              "    }\n",
              "    40% {\n",
              "      border-color: transparent;\n",
              "      border-right-color: var(--fill-color);\n",
              "      border-top-color: var(--fill-color);\n",
              "    }\n",
              "    60% {\n",
              "      border-color: transparent;\n",
              "      border-right-color: var(--fill-color);\n",
              "    }\n",
              "    80% {\n",
              "      border-color: transparent;\n",
              "      border-right-color: var(--fill-color);\n",
              "      border-bottom-color: var(--fill-color);\n",
              "    }\n",
              "    90% {\n",
              "      border-color: transparent;\n",
              "      border-bottom-color: var(--fill-color);\n",
              "    }\n",
              "  }\n",
              "</style>\n",
              "\n",
              "      <script>\n",
              "        async function quickchart(key) {\n",
              "          const quickchartButtonEl =\n",
              "            document.querySelector('#' + key + ' button');\n",
              "          quickchartButtonEl.disabled = true;  // To prevent multiple clicks.\n",
              "          quickchartButtonEl.classList.add('colab-df-spinner');\n",
              "          try {\n",
              "            const charts = await google.colab.kernel.invokeFunction(\n",
              "                'suggestCharts', [key], {});\n",
              "          } catch (error) {\n",
              "            console.error('Error during call to suggestCharts:', error);\n",
              "          }\n",
              "          quickchartButtonEl.classList.remove('colab-df-spinner');\n",
              "          quickchartButtonEl.classList.add('colab-df-quickchart-complete');\n",
              "        }\n",
              "        (() => {\n",
              "          let quickchartButtonEl =\n",
              "            document.querySelector('#df-4afab452-c022-4491-bf51-c142b4514957 button');\n",
              "          quickchartButtonEl.style.display =\n",
              "            google.colab.kernel.accessAllowed ? 'block' : 'none';\n",
              "        })();\n",
              "      </script>\n",
              "    </div>\n",
              "\n",
              "  <div id=\"id_d1f29ced-bcc6-4a51-bb5b-6a428f86c2f5\">\n",
              "    <style>\n",
              "      .colab-df-generate {\n",
              "        background-color: #E8F0FE;\n",
              "        border: none;\n",
              "        border-radius: 50%;\n",
              "        cursor: pointer;\n",
              "        display: none;\n",
              "        fill: #1967D2;\n",
              "        height: 32px;\n",
              "        padding: 0 0 0 0;\n",
              "        width: 32px;\n",
              "      }\n",
              "\n",
              "      .colab-df-generate:hover {\n",
              "        background-color: #E2EBFA;\n",
              "        box-shadow: 0px 1px 2px rgba(60, 64, 67, 0.3), 0px 1px 3px 1px rgba(60, 64, 67, 0.15);\n",
              "        fill: #174EA6;\n",
              "      }\n",
              "\n",
              "      [theme=dark] .colab-df-generate {\n",
              "        background-color: #3B4455;\n",
              "        fill: #D2E3FC;\n",
              "      }\n",
              "\n",
              "      [theme=dark] .colab-df-generate:hover {\n",
              "        background-color: #434B5C;\n",
              "        box-shadow: 0px 1px 3px 1px rgba(0, 0, 0, 0.15);\n",
              "        filter: drop-shadow(0px 1px 2px rgba(0, 0, 0, 0.3));\n",
              "        fill: #FFFFFF;\n",
              "      }\n",
              "    </style>\n",
              "    <button class=\"colab-df-generate\" onclick=\"generateWithVariable('df_pd')\"\n",
              "            title=\"Generate code using this dataframe.\"\n",
              "            style=\"display:none;\">\n",
              "\n",
              "  <svg xmlns=\"http://www.w3.org/2000/svg\" height=\"24px\"viewBox=\"0 0 24 24\"\n",
              "       width=\"24px\">\n",
              "    <path d=\"M7,19H8.4L18.45,9,17,7.55,7,17.6ZM5,21V16.75L18.45,3.32a2,2,0,0,1,2.83,0l1.4,1.43a1.91,1.91,0,0,1,.58,1.4,1.91,1.91,0,0,1-.58,1.4L9.25,21ZM18.45,9,17,7.55Zm-12,3A5.31,5.31,0,0,0,4.9,8.1,5.31,5.31,0,0,0,1,6.5,5.31,5.31,0,0,0,4.9,4.9,5.31,5.31,0,0,0,6.5,1,5.31,5.31,0,0,0,8.1,4.9,5.31,5.31,0,0,0,12,6.5,5.46,5.46,0,0,0,6.5,12Z\"/>\n",
              "  </svg>\n",
              "    </button>\n",
              "    <script>\n",
              "      (() => {\n",
              "      const buttonEl =\n",
              "        document.querySelector('#id_d1f29ced-bcc6-4a51-bb5b-6a428f86c2f5 button.colab-df-generate');\n",
              "      buttonEl.style.display =\n",
              "        google.colab.kernel.accessAllowed ? 'block' : 'none';\n",
              "\n",
              "      buttonEl.onclick = () => {\n",
              "        google.colab.notebook.generateWithVariable('df_pd');\n",
              "      }\n",
              "      })();\n",
              "    </script>\n",
              "  </div>\n",
              "\n",
              "    </div>\n",
              "  </div>\n"
            ],
            "application/vnd.google.colaboratory.intrinsic+json": {
              "type": "dataframe",
              "variable_name": "df_pd"
            }
          },
          "metadata": {},
          "execution_count": 5
        }
      ]
    },
    {
      "cell_type": "code",
      "source": [
        "df_pd.isnull().sum()"
      ],
      "metadata": {
        "colab": {
          "base_uri": "https://localhost:8080/",
          "height": 774
        },
        "id": "5lSkiSdGs4jS",
        "outputId": "174e447c-19a0-4128-8c74-d6444e9031f9"
      },
      "execution_count": 6,
      "outputs": [
        {
          "output_type": "execute_result",
          "data": {
            "text/plain": [
              "id_odsp            0\n",
              "id_event           0\n",
              "sort_order         0\n",
              "time               0\n",
              "text               0\n",
              "event_type         0\n",
              "event_type2        0\n",
              "side               0\n",
              "event_team         0\n",
              "opponent           0\n",
              "player           264\n",
              "player2            3\n",
              "player_in          0\n",
              "player_out         0\n",
              "shot_place         0\n",
              "shot_outcome       0\n",
              "is_goal            0\n",
              "location           0\n",
              "bodypart           0\n",
              "assist_method      0\n",
              "situation          0\n",
              "fast_break         0\n",
              "dtype: int64"
            ],
            "text/html": [
              "<div>\n",
              "<style scoped>\n",
              "    .dataframe tbody tr th:only-of-type {\n",
              "        vertical-align: middle;\n",
              "    }\n",
              "\n",
              "    .dataframe tbody tr th {\n",
              "        vertical-align: top;\n",
              "    }\n",
              "\n",
              "    .dataframe thead th {\n",
              "        text-align: right;\n",
              "    }\n",
              "</style>\n",
              "<table border=\"1\" class=\"dataframe\">\n",
              "  <thead>\n",
              "    <tr style=\"text-align: right;\">\n",
              "      <th></th>\n",
              "      <th>0</th>\n",
              "    </tr>\n",
              "  </thead>\n",
              "  <tbody>\n",
              "    <tr>\n",
              "      <th>id_odsp</th>\n",
              "      <td>0</td>\n",
              "    </tr>\n",
              "    <tr>\n",
              "      <th>id_event</th>\n",
              "      <td>0</td>\n",
              "    </tr>\n",
              "    <tr>\n",
              "      <th>sort_order</th>\n",
              "      <td>0</td>\n",
              "    </tr>\n",
              "    <tr>\n",
              "      <th>time</th>\n",
              "      <td>0</td>\n",
              "    </tr>\n",
              "    <tr>\n",
              "      <th>text</th>\n",
              "      <td>0</td>\n",
              "    </tr>\n",
              "    <tr>\n",
              "      <th>event_type</th>\n",
              "      <td>0</td>\n",
              "    </tr>\n",
              "    <tr>\n",
              "      <th>event_type2</th>\n",
              "      <td>0</td>\n",
              "    </tr>\n",
              "    <tr>\n",
              "      <th>side</th>\n",
              "      <td>0</td>\n",
              "    </tr>\n",
              "    <tr>\n",
              "      <th>event_team</th>\n",
              "      <td>0</td>\n",
              "    </tr>\n",
              "    <tr>\n",
              "      <th>opponent</th>\n",
              "      <td>0</td>\n",
              "    </tr>\n",
              "    <tr>\n",
              "      <th>player</th>\n",
              "      <td>264</td>\n",
              "    </tr>\n",
              "    <tr>\n",
              "      <th>player2</th>\n",
              "      <td>3</td>\n",
              "    </tr>\n",
              "    <tr>\n",
              "      <th>player_in</th>\n",
              "      <td>0</td>\n",
              "    </tr>\n",
              "    <tr>\n",
              "      <th>player_out</th>\n",
              "      <td>0</td>\n",
              "    </tr>\n",
              "    <tr>\n",
              "      <th>shot_place</th>\n",
              "      <td>0</td>\n",
              "    </tr>\n",
              "    <tr>\n",
              "      <th>shot_outcome</th>\n",
              "      <td>0</td>\n",
              "    </tr>\n",
              "    <tr>\n",
              "      <th>is_goal</th>\n",
              "      <td>0</td>\n",
              "    </tr>\n",
              "    <tr>\n",
              "      <th>location</th>\n",
              "      <td>0</td>\n",
              "    </tr>\n",
              "    <tr>\n",
              "      <th>bodypart</th>\n",
              "      <td>0</td>\n",
              "    </tr>\n",
              "    <tr>\n",
              "      <th>assist_method</th>\n",
              "      <td>0</td>\n",
              "    </tr>\n",
              "    <tr>\n",
              "      <th>situation</th>\n",
              "      <td>0</td>\n",
              "    </tr>\n",
              "    <tr>\n",
              "      <th>fast_break</th>\n",
              "      <td>0</td>\n",
              "    </tr>\n",
              "  </tbody>\n",
              "</table>\n",
              "</div><br><label><b>dtype:</b> int64</label>"
            ]
          },
          "metadata": {},
          "execution_count": 6
        }
      ]
    },
    {
      "cell_type": "code",
      "source": [
        "df1 = df.select('bodypart', 'shot_outcome', 'is_goal')\n",
        "\n",
        "shoting_bodypart = df1.filter(\n",
        "    (col('bodypart').isNotNull()) &\n",
        "    (col('shot_outcome').isNotNull()) &\n",
        "    (col('is_goal').isNotNull())\n",
        ")\n",
        "shoting_bodypart.show()"
      ],
      "metadata": {
        "colab": {
          "base_uri": "https://localhost:8080/"
        },
        "id": "eUw7SyyEs6Zy",
        "outputId": "4e85e37a-4526-4f87-c766-fb7767ae9070"
      },
      "execution_count": 7,
      "outputs": [
        {
          "output_type": "stream",
          "name": "stdout",
          "text": [
            "+--------+------------+-------+\n",
            "|bodypart|shot_outcome|is_goal|\n",
            "+--------+------------+-------+\n",
            "|       2|           2|      0|\n",
            "|      NA|          NA|      0|\n",
            "|      NA|          NA|      0|\n",
            "|      NA|          NA|      0|\n",
            "|      NA|          NA|      0|\n",
            "|      NA|          NA|      0|\n",
            "|      NA|          NA|      0|\n",
            "|      NA|          NA|      0|\n",
            "|      NA|          NA|      0|\n",
            "|      NA|          NA|      0|\n",
            "|      NA|          NA|      0|\n",
            "|       1|           2|      0|\n",
            "|      NA|          NA|      0|\n",
            "|       2|           1|      1|\n",
            "|       1|           3|      0|\n",
            "|      NA|          NA|      0|\n",
            "|      NA|          NA|      0|\n",
            "|       1|           3|      0|\n",
            "|       1|           4|      0|\n",
            "|      NA|          NA|      0|\n",
            "+--------+------------+-------+\n",
            "only showing top 20 rows\n",
            "\n"
          ]
        }
      ]
    },
    {
      "cell_type": "code",
      "source": [
        "df2 = shoting_bodypart.groupBy('bodypart', 'shot_outcome','is_goal').count()\n",
        "df2.show()"
      ],
      "metadata": {
        "colab": {
          "base_uri": "https://localhost:8080/"
        },
        "id": "tRSF1oTC0MWK",
        "outputId": "afab5d0c-14ce-4bcf-9e6e-b190707e3ee3"
      },
      "execution_count": 8,
      "outputs": [
        {
          "output_type": "stream",
          "name": "stdout",
          "text": [
            "+--------+------------+-------+------+\n",
            "|bodypart|shot_outcome|is_goal| count|\n",
            "+--------+------------+-------+------+\n",
            "|       2|           4|      0|  1283|\n",
            "|       1|           1|      1| 12823|\n",
            "|       1|          NA|      1|   628|\n",
            "|       2|           1|      0| 17018|\n",
            "|       2|          NA|      0|    11|\n",
            "|       2|           1|      1|  6757|\n",
            "|       1|           2|      0| 45358|\n",
            "|       3|           3|      0|  3518|\n",
            "|      NA|          NA|      0|711823|\n",
            "|       3|           1|      0|  7929|\n",
            "|       3|           2|      0| 20174|\n",
            "|       1|           1|      0| 29251|\n",
            "|       2|           3|      0| 18925|\n",
            "|       1|           4|      0|  2193|\n",
            "|       1|          NA|      0|    47|\n",
            "|       3|           1|      1|  4236|\n",
            "|       1|           3|      0| 31639|\n",
            "|       2|           2|      0| 27295|\n",
            "|       3|           4|      0|    99|\n",
            "|       2|          NA|      1|     1|\n",
            "+--------+------------+-------+------+\n",
            "only showing top 20 rows\n",
            "\n"
          ]
        }
      ]
    },
    {
      "cell_type": "code",
      "source": [
        "goals = df.filter(col(\"is_goal\") == 1)\n",
        "goals_by_team = goals.groupBy(\"event_team\").count()\n",
        "goals_by_team.orderBy(col(\"count\").desc()).show()"
      ],
      "metadata": {
        "colab": {
          "base_uri": "https://localhost:8080/"
        },
        "id": "FcqnuULU0PA6",
        "outputId": "bbaf4c9b-d2c3-4b40-a166-d48882a7404e"
      },
      "execution_count": 9,
      "outputs": [
        {
          "output_type": "stream",
          "name": "stdout",
          "text": [
            "+-------------------+-----+\n",
            "|         event_team|count|\n",
            "+-------------------+-----+\n",
            "|          Barcelona|  586|\n",
            "|        Real Madrid|  573|\n",
            "|      Bayern Munich|  453|\n",
            "|Paris Saint-Germain|  447|\n",
            "|             Napoli|  403|\n",
            "|           Juventus|  401|\n",
            "|  Borussia Dortmund|  392|\n",
            "|            AS Roma|  373|\n",
            "|               Lyon|  355|\n",
            "|    Atletico Madrid|  347|\n",
            "|            Sevilla|  330|\n",
            "|           AC Milan|  329|\n",
            "|         Fiorentina|  321|\n",
            "|           Valencia|  314|\n",
            "|     Internazionale|  312|\n",
            "|              Lazio|  309|\n",
            "|   Bayer Leverkusen|  307|\n",
            "|         Schalke 04|  293|\n",
            "|        Montpellier|  289|\n",
            "|      Real Sociedad|  286|\n",
            "+-------------------+-----+\n",
            "only showing top 20 rows\n",
            "\n"
          ]
        }
      ]
    },
    {
      "cell_type": "code",
      "source": [
        "from pyspark.sql.functions import col, when\n",
        "\n",
        "\n",
        "df2 = df2.withColumn(\n",
        "    \"bodypart_description\",\n",
        "    when(col(\"bodypart\") == 1, \"right foot\")\n",
        "    .when(col(\"bodypart\") == 2, \"left foot\")\n",
        "    .when(col(\"bodypart\") == 3, \"head\")\n",
        "    .otherwise(\"Unknown\")\n",
        ")\n",
        "\n",
        "df2 = df2.withColumn(\n",
        "    \"shot_outcome_description\",\n",
        "    when(col(\"shot_outcome\") == 1, \"On target\")\n",
        "    .when(col(\"shot_outcome\") == 2, \"Off target\")\n",
        "    .when(col(\"shot_outcome\") == 3, \"Blocked\")\n",
        "    .when(col(\"shot_outcome\") == 4, \"Hit the bar\")\n",
        "    .otherwise(\"Unknown\")\n",
        ")\n",
        "\n",
        "df2.show()"
      ],
      "metadata": {
        "colab": {
          "base_uri": "https://localhost:8080/"
        },
        "id": "PWV_yx_g0PJC",
        "outputId": "fa04ed00-71eb-41ff-ae19-01462ba54bb1"
      },
      "execution_count": 10,
      "outputs": [
        {
          "output_type": "stream",
          "name": "stdout",
          "text": [
            "+--------+------------+-------+------+--------------------+------------------------+\n",
            "|bodypart|shot_outcome|is_goal| count|bodypart_description|shot_outcome_description|\n",
            "+--------+------------+-------+------+--------------------+------------------------+\n",
            "|       2|           4|      0|  1283|           left foot|             Hit the bar|\n",
            "|       1|           1|      1| 12823|          right foot|               On target|\n",
            "|       1|          NA|      1|   628|          right foot|                 Unknown|\n",
            "|       2|           1|      0| 17018|           left foot|               On target|\n",
            "|       2|          NA|      0|    11|           left foot|                 Unknown|\n",
            "|       2|           1|      1|  6757|           left foot|               On target|\n",
            "|       1|           2|      0| 45358|          right foot|              Off target|\n",
            "|       3|           3|      0|  3518|                head|                 Blocked|\n",
            "|      NA|          NA|      0|711823|             Unknown|                 Unknown|\n",
            "|       3|           1|      0|  7929|                head|               On target|\n",
            "|       3|           2|      0| 20174|                head|              Off target|\n",
            "|       1|           1|      0| 29251|          right foot|               On target|\n",
            "|       2|           3|      0| 18925|           left foot|                 Blocked|\n",
            "|       1|           4|      0|  2193|          right foot|             Hit the bar|\n",
            "|       1|          NA|      0|    47|          right foot|                 Unknown|\n",
            "|       3|           1|      1|  4236|                head|               On target|\n",
            "|       1|           3|      0| 31639|          right foot|                 Blocked|\n",
            "|       2|           2|      0| 27295|           left foot|              Off target|\n",
            "|       3|           4|      0|    99|                head|             Hit the bar|\n",
            "|       2|          NA|      1|     1|           left foot|                 Unknown|\n",
            "+--------+------------+-------+------+--------------------+------------------------+\n",
            "only showing top 20 rows\n",
            "\n"
          ]
        }
      ]
    },
    {
      "cell_type": "code",
      "source": [
        "df21=df2.select('bodypart_description','shot_outcome_description','is_goal','count')\n",
        "df22 = df21.filter(\n",
        "    (col(\"bodypart_description\") != \"Unknown\") &\n",
        "    (col(\"shot_outcome_description\") != \"Unknown\")\n",
        ")\n",
        "df22.show()"
      ],
      "metadata": {
        "colab": {
          "base_uri": "https://localhost:8080/"
        },
        "id": "wShMBsO60PN8",
        "outputId": "db8e5f2b-1d89-4f30-bef5-a731faddb69b"
      },
      "execution_count": 11,
      "outputs": [
        {
          "output_type": "stream",
          "name": "stdout",
          "text": [
            "+--------------------+------------------------+-------+-----+\n",
            "|bodypart_description|shot_outcome_description|is_goal|count|\n",
            "+--------------------+------------------------+-------+-----+\n",
            "|           left foot|             Hit the bar|      0| 1283|\n",
            "|          right foot|               On target|      1|12823|\n",
            "|           left foot|               On target|      0|17018|\n",
            "|           left foot|               On target|      1| 6757|\n",
            "|          right foot|              Off target|      0|45358|\n",
            "|                head|                 Blocked|      0| 3518|\n",
            "|                head|               On target|      0| 7929|\n",
            "|                head|              Off target|      0|20174|\n",
            "|          right foot|               On target|      0|29251|\n",
            "|           left foot|                 Blocked|      0|18925|\n",
            "|          right foot|             Hit the bar|      0| 2193|\n",
            "|                head|               On target|      1| 4236|\n",
            "|          right foot|                 Blocked|      0|31639|\n",
            "|           left foot|              Off target|      0|27295|\n",
            "|                head|             Hit the bar|      0|   99|\n",
            "+--------------------+------------------------+-------+-----+\n",
            "\n"
          ]
        }
      ]
    },
    {
      "cell_type": "code",
      "source": [
        "df22_pd = df22.toPandas()\n",
        "\n",
        "goal = df22_pd.groupby(['bodypart_description','is_goal'])['count'].sum()\n",
        "sum = df22_pd.groupby(['bodypart_description'])['count'].sum()\n",
        "sum2 = df22_pd.groupby(['bodypart_description'])['count'].sum().sum()\n",
        "percentage = goal / sum * 100\n",
        "print(sum2)\n",
        "print()\n",
        "print(sum)\n",
        "print()\n",
        "print(sum/sum2)\n",
        "print()\n",
        "print(goal)\n",
        "print()\n",
        "print(percentage)\n"
      ],
      "metadata": {
        "colab": {
          "base_uri": "https://localhost:8080/"
        },
        "id": "LolZxLG70PSs",
        "outputId": "86e9dd01-16db-481e-9dbf-69979aeed307"
      },
      "execution_count": 12,
      "outputs": [
        {
          "output_type": "stream",
          "name": "stdout",
          "text": [
            "228498\n",
            "\n",
            "bodypart_description\n",
            "head           35956\n",
            "left foot      71278\n",
            "right foot    121264\n",
            "Name: count, dtype: int64\n",
            "\n",
            "bodypart_description\n",
            "head          0.157358\n",
            "left foot     0.311941\n",
            "right foot    0.530700\n",
            "Name: count, dtype: float64\n",
            "\n",
            "bodypart_description  is_goal\n",
            "head                  0           31720\n",
            "                      1            4236\n",
            "left foot             0           64521\n",
            "                      1            6757\n",
            "right foot            0          108441\n",
            "                      1           12823\n",
            "Name: count, dtype: int64\n",
            "\n",
            "bodypart_description  is_goal\n",
            "head                  0          88.218934\n",
            "                      1          11.781066\n",
            "left foot             0          90.520217\n",
            "                      1           9.479783\n",
            "right foot            0          89.425551\n",
            "                      1          10.574449\n",
            "Name: count, dtype: float64\n"
          ]
        }
      ]
    },
    {
      "cell_type": "code",
      "source": [
        "filtered_percentage = percentage[percentage != 100].unstack(fill_value=0)\n",
        "\n",
        "sns.heatmap(filtered_percentage, annot=True, fmt=\".2f\", cmap=\"YlGnBu\", cbar_kws={'label': 'Goal Percentage (%)'})\n",
        "plt.title('Heatmap of Goal Percentage by Body Part and Shot Outcome (Excluding 100%)')\n",
        "plt.xlabel('Shot Outcome Description')\n",
        "plt.ylabel('Body Part Description')\n",
        "plt.tight_layout()\n",
        "plt.show()"
      ],
      "metadata": {
        "colab": {
          "base_uri": "https://localhost:8080/",
          "height": 487
        },
        "id": "GLgsAqGf0PWN",
        "outputId": "99c771db-59c4-4257-8d86-40f766d322fc"
      },
      "execution_count": 13,
      "outputs": [
        {
          "output_type": "display_data",
          "data": {
            "text/plain": [
              "<Figure size 640x480 with 2 Axes>"
            ],
            "image/png": "[encoded data removed]"
          },
          "metadata": {}
        }
      ]
    },
    {
      "cell_type": "code",
      "source": [
        "goal = df22_pd.groupby(['bodypart_description','shot_outcome_description','is_goal'])['count'].sum()\n",
        "sum = df22_pd.groupby(['bodypart_description','shot_outcome_description'])['count'].sum()\n",
        "percentage = goal / sum * 100\n",
        "print(percentage)"
      ],
      "metadata": {
        "colab": {
          "base_uri": "https://localhost:8080/"
        },
        "id": "taYxsrOW0PZD",
        "outputId": "86a85c9b-7a8c-4ebb-83fb-5478f4b51a9b"
      },
      "execution_count": 14,
      "outputs": [
        {
          "output_type": "stream",
          "name": "stdout",
          "text": [
            "bodypart_description  shot_outcome_description  is_goal\n",
            "head                  Blocked                   0          100.000000\n",
            "                      Hit the bar               0          100.000000\n",
            "                      Off target                0          100.000000\n",
            "                      On target                 0           65.178792\n",
            "                                                1           34.821208\n",
            "left foot             Blocked                   0          100.000000\n",
            "                      Hit the bar               0          100.000000\n",
            "                      Off target                0          100.000000\n",
            "                      On target                 0           71.579390\n",
            "                                                1           28.420610\n",
            "right foot            Blocked                   0          100.000000\n",
            "                      Hit the bar               0          100.000000\n",
            "                      Off target                0          100.000000\n",
            "                      On target                 0           69.522746\n",
            "                                                1           30.477254\n",
            "Name: count, dtype: float64\n"
          ]
        }
      ]
    },
    {
      "cell_type": "code",
      "source": [
        "filtered_percentage = percentage[percentage != 100].unstack(fill_value=0)\n",
        "\n",
        "sns.heatmap(filtered_percentage, annot=True, fmt=\".2f\", cmap=\"YlGnBu\", cbar_kws={'label': 'Goal Percentage (%)'})\n",
        "plt.title('Heatmap of Goal Percentage by Body Part and Shot Outcome (Excluding 100%)')\n",
        "plt.xlabel('Shot Outcome Description')\n",
        "plt.ylabel('Body Part Description')\n",
        "plt.tight_layout()\n",
        "plt.show()"
      ],
      "metadata": {
        "colab": {
          "base_uri": "https://localhost:8080/",
          "height": 487
        },
        "id": "FMFoyvU_0PcU",
        "outputId": "8d3be251-5b58-43d2-941b-db24b6707994"
      },
      "execution_count": 15,
      "outputs": [
        {
          "output_type": "display_data",
          "data": {
            "text/plain": [
              "<Figure size 640x480 with 2 Axes>"
            ],
            "image/png": "[encoded data removed]"
          },
          "metadata": {}
        }
      ]
    },
    {
      "cell_type": "code",
      "source": [],
      "metadata": {
        "id": "hoF8lmRF0cvx"
      },
      "execution_count": null,
      "outputs": []
    },
    {
      "cell_type": "code",
      "source": [
        "df.show()"
      ],
      "metadata": {
        "colab": {
          "base_uri": "https://localhost:8080/"
        },
        "id": "sqsNhoAF0c2o",
        "outputId": "18166950-6422-419d-ccb1-093936df5c57"
      },
      "execution_count": 16,
      "outputs": [
        {
          "output_type": "stream",
          "name": "stdout",
          "text": [
            "+---------+----------+----------+----+--------------------+----------+-----------+----+-----------------+-----------------+-------------------+----------------+---------+----------+----------+------------+-------+--------+--------+-------------+---------+----------+\n",
            "|  id_odsp|  id_event|sort_order|time|                text|event_type|event_type2|side|       event_team|         opponent|             player|         player2|player_in|player_out|shot_place|shot_outcome|is_goal|location|bodypart|assist_method|situation|fast_break|\n",
            "+---------+----------+----------+----+--------------------+----------+-----------+----+-----------------+-----------------+-------------------+----------------+---------+----------+----------+------------+-------+--------+--------+-------------+---------+----------+\n",
            "|UFot0hit/| UFot0hit1|         1|   2|Attempt missed. M...|         1|         12|   2|       Hamburg SV|Borussia Dortmund|      mladen petric|     gokhan tore|       NA|        NA|         6|           2|      0|       9|       2|            1|        1|         0|\n",
            "|UFot0hit/| UFot0hit2|         2|   4|Corner,  Borussia...|         2|         NA|   1|Borussia Dortmund|       Hamburg SV|   dennis diekmeier|dennis diekmeier|       NA|        NA|        NA|          NA|      0|      NA|      NA|            0|       NA|         0|\n",
            "|UFot0hit/| UFot0hit3|         3|   4|Corner,  Borussia...|         2|         NA|   1|Borussia Dortmund|       Hamburg SV|   heiko westermann|heiko westermann|       NA|        NA|        NA|          NA|      0|      NA|      NA|            0|       NA|         0|\n",
            "|UFot0hit/| UFot0hit4|         4|   7|Foul by Sven Bend...|         3|         NA|   1|Borussia Dortmund|       Hamburg SV|        sven bender|              NA|       NA|        NA|        NA|          NA|      0|      NA|      NA|            0|       NA|         0|\n",
            "|UFot0hit/| UFot0hit5|         5|   7|Gokhan Tore (Hamb...|         8|         NA|   2|       Hamburg SV|Borussia Dortmund|        gokhan tore|              NA|       NA|        NA|        NA|          NA|      0|       2|      NA|            0|       NA|         0|\n",
            "|UFot0hit/| UFot0hit6|         6|   9|Hand ball by Jose...|        10|         NA|   2|       Hamburg SV|Borussia Dortmund|jose paolo guerrero|              NA|       NA|        NA|        NA|          NA|      0|      NA|      NA|            0|       NA|         0|\n",
            "|UFot0hit/| UFot0hit7|         7|  10|Corner,  Hamburg....|         2|         NA|   2|       Hamburg SV|Borussia Dortmund|    lukasz piszczek| lukasz piszczek|       NA|        NA|        NA|          NA|      0|      NA|      NA|            0|       NA|         0|\n",
            "|UFot0hit/| UFot0hit8|         8|  11|Chris Lowe (Borus...|         8|         NA|   1|Borussia Dortmund|       Hamburg SV|         chris lowe|              NA|       NA|        NA|        NA|          NA|      0|       2|      NA|            0|       NA|         0|\n",
            "|UFot0hit/| UFot0hit9|         9|  11|Foul by Gojko Kac...|         3|         NA|   2|       Hamburg SV|Borussia Dortmund|        gojko kacar|              NA|       NA|        NA|        NA|          NA|      0|      NA|      NA|            0|       NA|         0|\n",
            "|UFot0hit/|UFot0hit10|        10|  13|Foul by Gokhan To...|         3|         NA|   2|       Hamburg SV|Borussia Dortmund|        gokhan tore|              NA|       NA|        NA|        NA|          NA|      0|      NA|      NA|            0|       NA|         0|\n",
            "|UFot0hit/|UFot0hit11|        11|  14|Sven Bender (Boru...|         8|         NA|   1|Borussia Dortmund|       Hamburg SV|        sven bender|              NA|       NA|        NA|        NA|          NA|      0|       4|      NA|            0|       NA|         0|\n",
            "|UFot0hit/|UFot0hit12|        12|  14|Attempt missed. S...|         1|         12|   1|Borussia Dortmund|       Hamburg SV|      shinji kagawa|     mario gotze|       NA|        NA|        13|           2|      0|      15|       1|            1|        1|         0|\n",
            "|UFot0hit/|UFot0hit13|        13|  14|Foul by Gojko Kac...|         3|         NA|   2|       Hamburg SV|Borussia Dortmund|        gojko kacar|              NA|       NA|        NA|        NA|          NA|      0|      NA|      NA|            0|       NA|         0|\n",
            "|UFot0hit/|UFot0hit14|        14|  17|Goal!  Borussia D...|         1|         12|   1|Borussia Dortmund|       Hamburg SV|  kevin grosskreutz|     mario gotze|       NA|        NA|         4|           1|      1|       9|       2|            1|        1|         0|\n",
            "|UFot0hit/|UFot0hit15|        15|  19|Attempt blocked. ...|         1|         NA|   1|Borussia Dortmund|       Hamburg SV|       mats hummels|              NA|       NA|        NA|         2|           3|      0|      15|       1|            0|        1|         0|\n",
            "|UFot0hit/|UFot0hit16|        16|  20|Foul by Sven Bend...|         3|         NA|   1|Borussia Dortmund|       Hamburg SV|        sven bender|              NA|       NA|        NA|        NA|          NA|      0|      NA|      NA|            0|       NA|         0|\n",
            "|UFot0hit/|UFot0hit17|        17|  20|Mladen Petric (Ha...|         8|         NA|   2|       Hamburg SV|Borussia Dortmund|      mladen petric|              NA|       NA|        NA|        NA|          NA|      0|       1|      NA|            0|       NA|         0|\n",
            "|UFot0hit/|UFot0hit18|        18|  20|Attempt blocked. ...|         1|         NA|   2|       Hamburg SV|Borussia Dortmund|       tomas rincon|              NA|       NA|        NA|         2|           3|      0|      15|       1|            0|        1|         0|\n",
            "|UFot0hit/|UFot0hit19|        19|  25|Shinji Kagawa (Bo...|         1|         12|   1|Borussia Dortmund|       Hamburg SV|      shinji kagawa| lukasz piszczek|       NA|        NA|         7|           4|      0|       3|       1|            1|        1|         0|\n",
            "|UFot0hit/|UFot0hit20|        20|  25|Corner,  Borussia...|         2|         NA|   1|Borussia Dortmund|       Hamburg SV|   dennis diekmeier|dennis diekmeier|       NA|        NA|        NA|          NA|      0|      NA|      NA|            0|       NA|         0|\n",
            "+---------+----------+----------+----+--------------------+----------+-----------+----+-----------------+-----------------+-------------------+----------------+---------+----------+----------+------------+-------+--------+--------+-------------+---------+----------+\n",
            "only showing top 20 rows\n",
            "\n"
          ]
        }
      ]
    },
    {
      "cell_type": "code",
      "source": [
        "df.show()"
      ],
      "metadata": {
        "colab": {
          "base_uri": "https://localhost:8080/"
        },
        "id": "wvn2WRgD0c6C",
        "outputId": "f2d61923-58c5-4e6e-c312-2a82caecc50f"
      },
      "execution_count": 17,
      "outputs": [
        {
          "output_type": "stream",
          "name": "stdout",
          "text": [
            "+---------+----------+----------+----+--------------------+----------+-----------+----+-----------------+-----------------+-------------------+----------------+---------+----------+----------+------------+-------+--------+--------+-------------+---------+----------+\n",
            "|  id_odsp|  id_event|sort_order|time|                text|event_type|event_type2|side|       event_team|         opponent|             player|         player2|player_in|player_out|shot_place|shot_outcome|is_goal|location|bodypart|assist_method|situation|fast_break|\n",
            "+---------+----------+----------+----+--------------------+----------+-----------+----+-----------------+-----------------+-------------------+----------------+---------+----------+----------+------------+-------+--------+--------+-------------+---------+----------+\n",
            "|UFot0hit/| UFot0hit1|         1|   2|Attempt missed. M...|         1|         12|   2|       Hamburg SV|Borussia Dortmund|      mladen petric|     gokhan tore|       NA|        NA|         6|           2|      0|       9|       2|            1|        1|         0|\n",
            "|UFot0hit/| UFot0hit2|         2|   4|Corner,  Borussia...|         2|         NA|   1|Borussia Dortmund|       Hamburg SV|   dennis diekmeier|dennis diekmeier|       NA|        NA|        NA|          NA|      0|      NA|      NA|            0|       NA|         0|\n",
            "|UFot0hit/| UFot0hit3|         3|   4|Corner,  Borussia...|         2|         NA|   1|Borussia Dortmund|       Hamburg SV|   heiko westermann|heiko westermann|       NA|        NA|        NA|          NA|      0|      NA|      NA|            0|       NA|         0|\n",
            "|UFot0hit/| UFot0hit4|         4|   7|Foul by Sven Bend...|         3|         NA|   1|Borussia Dortmund|       Hamburg SV|        sven bender|              NA|       NA|        NA|        NA|          NA|      0|      NA|      NA|            0|       NA|         0|\n",
            "|UFot0hit/| UFot0hit5|         5|   7|Gokhan Tore (Hamb...|         8|         NA|   2|       Hamburg SV|Borussia Dortmund|        gokhan tore|              NA|       NA|        NA|        NA|          NA|      0|       2|      NA|            0|       NA|         0|\n",
            "|UFot0hit/| UFot0hit6|         6|   9|Hand ball by Jose...|        10|         NA|   2|       Hamburg SV|Borussia Dortmund|jose paolo guerrero|              NA|       NA|        NA|        NA|          NA|      0|      NA|      NA|            0|       NA|         0|\n",
            "|UFot0hit/| UFot0hit7|         7|  10|Corner,  Hamburg....|         2|         NA|   2|       Hamburg SV|Borussia Dortmund|    lukasz piszczek| lukasz piszczek|       NA|        NA|        NA|          NA|      0|      NA|      NA|            0|       NA|         0|\n",
            "|UFot0hit/| UFot0hit8|         8|  11|Chris Lowe (Borus...|         8|         NA|   1|Borussia Dortmund|       Hamburg SV|         chris lowe|              NA|       NA|        NA|        NA|          NA|      0|       2|      NA|            0|       NA|         0|\n",
            "|UFot0hit/| UFot0hit9|         9|  11|Foul by Gojko Kac...|         3|         NA|   2|       Hamburg SV|Borussia Dortmund|        gojko kacar|              NA|       NA|        NA|        NA|          NA|      0|      NA|      NA|            0|       NA|         0|\n",
            "|UFot0hit/|UFot0hit10|        10|  13|Foul by Gokhan To...|         3|         NA|   2|       Hamburg SV|Borussia Dortmund|        gokhan tore|              NA|       NA|        NA|        NA|          NA|      0|      NA|      NA|            0|       NA|         0|\n",
            "|UFot0hit/|UFot0hit11|        11|  14|Sven Bender (Boru...|         8|         NA|   1|Borussia Dortmund|       Hamburg SV|        sven bender|              NA|       NA|        NA|        NA|          NA|      0|       4|      NA|            0|       NA|         0|\n",
            "|UFot0hit/|UFot0hit12|        12|  14|Attempt missed. S...|         1|         12|   1|Borussia Dortmund|       Hamburg SV|      shinji kagawa|     mario gotze|       NA|        NA|        13|           2|      0|      15|       1|            1|        1|         0|\n",
            "|UFot0hit/|UFot0hit13|        13|  14|Foul by Gojko Kac...|         3|         NA|   2|       Hamburg SV|Borussia Dortmund|        gojko kacar|              NA|       NA|        NA|        NA|          NA|      0|      NA|      NA|            0|       NA|         0|\n",
            "|UFot0hit/|UFot0hit14|        14|  17|Goal!  Borussia D...|         1|         12|   1|Borussia Dortmund|       Hamburg SV|  kevin grosskreutz|     mario gotze|       NA|        NA|         4|           1|      1|       9|       2|            1|        1|         0|\n",
            "|UFot0hit/|UFot0hit15|        15|  19|Attempt blocked. ...|         1|         NA|   1|Borussia Dortmund|       Hamburg SV|       mats hummels|              NA|       NA|        NA|         2|           3|      0|      15|       1|            0|        1|         0|\n",
            "|UFot0hit/|UFot0hit16|        16|  20|Foul by Sven Bend...|         3|         NA|   1|Borussia Dortmund|       Hamburg SV|        sven bender|              NA|       NA|        NA|        NA|          NA|      0|      NA|      NA|            0|       NA|         0|\n",
            "|UFot0hit/|UFot0hit17|        17|  20|Mladen Petric (Ha...|         8|         NA|   2|       Hamburg SV|Borussia Dortmund|      mladen petric|              NA|       NA|        NA|        NA|          NA|      0|       1|      NA|            0|       NA|         0|\n",
            "|UFot0hit/|UFot0hit18|        18|  20|Attempt blocked. ...|         1|         NA|   2|       Hamburg SV|Borussia Dortmund|       tomas rincon|              NA|       NA|        NA|         2|           3|      0|      15|       1|            0|        1|         0|\n",
            "|UFot0hit/|UFot0hit19|        19|  25|Shinji Kagawa (Bo...|         1|         12|   1|Borussia Dortmund|       Hamburg SV|      shinji kagawa| lukasz piszczek|       NA|        NA|         7|           4|      0|       3|       1|            1|        1|         0|\n",
            "|UFot0hit/|UFot0hit20|        20|  25|Corner,  Borussia...|         2|         NA|   1|Borussia Dortmund|       Hamburg SV|   dennis diekmeier|dennis diekmeier|       NA|        NA|        NA|          NA|      0|      NA|      NA|            0|       NA|         0|\n",
            "+---------+----------+----------+----+--------------------+----------+-----------+----+-----------------+-----------------+-------------------+----------------+---------+----------+----------+------------+-------+--------+--------+-------------+---------+----------+\n",
            "only showing top 20 rows\n",
            "\n"
          ]
        }
      ]
    },
    {
      "cell_type": "code",
      "source": [
        "location_outcome = df.select(['location', 'shot_outcome','is_goal'])\n",
        "location_outcome.show()"
      ],
      "metadata": {
        "colab": {
          "base_uri": "https://localhost:8080/"
        },
        "id": "8rNZv1oB0heg",
        "outputId": "47d0cd8d-ec83-4e29-c072-0a64b6c10b4f"
      },
      "execution_count": 18,
      "outputs": [
        {
          "output_type": "stream",
          "name": "stdout",
          "text": [
            "+--------+------------+-------+\n",
            "|location|shot_outcome|is_goal|\n",
            "+--------+------------+-------+\n",
            "|       9|           2|      0|\n",
            "|      NA|          NA|      0|\n",
            "|      NA|          NA|      0|\n",
            "|      NA|          NA|      0|\n",
            "|       2|          NA|      0|\n",
            "|      NA|          NA|      0|\n",
            "|      NA|          NA|      0|\n",
            "|       2|          NA|      0|\n",
            "|      NA|          NA|      0|\n",
            "|      NA|          NA|      0|\n",
            "|       4|          NA|      0|\n",
            "|      15|           2|      0|\n",
            "|      NA|          NA|      0|\n",
            "|       9|           1|      1|\n",
            "|      15|           3|      0|\n",
            "|      NA|          NA|      0|\n",
            "|       1|          NA|      0|\n",
            "|      15|           3|      0|\n",
            "|       3|           4|      0|\n",
            "|      NA|          NA|      0|\n",
            "+--------+------------+-------+\n",
            "only showing top 20 rows\n",
            "\n"
          ]
        }
      ]
    },
    {
      "cell_type": "code",
      "source": [
        "df3 = location_outcome.groupBy('location', 'shot_outcome','is_goal').count()\n",
        "df3.show()"
      ],
      "metadata": {
        "colab": {
          "base_uri": "https://localhost:8080/"
        },
        "id": "bIK-Dx0i0hhQ",
        "outputId": "d5d7bddb-70f7-4d97-9ee8-5b1cc6644e1d"
      },
      "execution_count": 19,
      "outputs": [
        {
          "output_type": "stream",
          "name": "stdout",
          "text": [
            "+--------+------------+-------+------+\n",
            "|location|shot_outcome|is_goal| count|\n",
            "+--------+------------+-------+------+\n",
            "|      12|           1|      1|   702|\n",
            "|       6|           1|      1|    43|\n",
            "|      18|           1|      1|     4|\n",
            "|      13|           2|      0|  1820|\n",
            "|      18|           3|      0|    11|\n",
            "|       3|           4|      0|   979|\n",
            "|      14|           1|      0|   446|\n",
            "|      15|           2|      0| 40532|\n",
            "|      10|           1|      0|   769|\n",
            "|      18|           4|      0|     6|\n",
            "|      11|           3|      0|  4838|\n",
            "|       8|           3|      0|   367|\n",
            "|       8|           1|      1|   187|\n",
            "|      11|           2|      0|  6732|\n",
            "|       7|           3|      0|   393|\n",
            "|       6|           2|      0|   590|\n",
            "|       2|          NA|      0|125137|\n",
            "|      15|           1|      1|  2555|\n",
            "|       6|           1|      0|   573|\n",
            "|       4|          NA|      0| 29669|\n",
            "+--------+------------+-------+------+\n",
            "only showing top 20 rows\n",
            "\n"
          ]
        }
      ]
    },
    {
      "cell_type": "code",
      "source": [
        "df3.describe()"
      ],
      "metadata": {
        "colab": {
          "base_uri": "https://localhost:8080/"
        },
        "id": "6o8J7paH0hj4",
        "outputId": "c527208c-adfa-477d-eb2e-ec3ef3d55424"
      },
      "execution_count": 20,
      "outputs": [
        {
          "output_type": "execute_result",
          "data": {
            "text/plain": [
              "DataFrame[summary: string, location: string, shot_outcome: string, is_goal: string, count: string]"
            ]
          },
          "metadata": {},
          "execution_count": 20
        }
      ]
    },
    {
      "cell_type": "code",
      "source": [],
      "metadata": {
        "id": "4AINT_Ph0rNQ"
      },
      "execution_count": null,
      "outputs": []
    },
    {
      "cell_type": "markdown",
      "source": [
        "Data Analysis"
      ],
      "metadata": {
        "id": "BQMYgJCa0s8y"
      }
    },
    {
      "cell_type": "code",
      "source": [
        "import pandas as pd\n",
        "import numpy as np\n",
        "import matplotlib.pyplot as plt\n",
        "import scipy as sp"
      ],
      "metadata": {
        "id": "KpFz_fTa0rQP"
      },
      "execution_count": 21,
      "outputs": []
    },
    {
      "cell_type": "code",
      "source": [
        "events = pd.read_csv('/content/events.csv')\n",
        "info = pd.read_csv('/content/ginf.csv')"
      ],
      "metadata": {
        "id": "OR6BWSCa0rSx"
      },
      "execution_count": 22,
      "outputs": []
    },
    {
      "cell_type": "code",
      "source": [
        "events = events.merge(info[['id_odsp', 'country', 'date']], on='id_odsp', how='left')"
      ],
      "metadata": {
        "id": "4AtKqjB10rVH"
      },
      "execution_count": 23,
      "outputs": []
    },
    {
      "cell_type": "code",
      "source": [
        "shots = events[events.event_type==1]\n",
        "shots['player'] = shots['player'].str.title()\n",
        "shots['player2'] = shots['player2'].str.title()\n",
        "shots['country'] = shots['country'].str.title()"
      ],
      "metadata": {
        "colab": {
          "base_uri": "https://localhost:8080/"
        },
        "id": "imzz14w704cu",
        "outputId": "776b1460-850b-4760-c28e-8648a3a36957"
      },
      "execution_count": 24,
      "outputs": [
        {
          "output_type": "stream",
          "name": "stderr",
          "text": [
            "<ipython-input-24-456007cae282>:2: SettingWithCopyWarning: \n",
            "A value is trying to be set on a copy of a slice from a DataFrame.\n",
            "Try using .loc[row_indexer,col_indexer] = value instead\n",
            "\n",
            "See the caveats in the documentation: https://pandas.pydata.org/pandas-docs/stable/user_guide/indexing.html#returning-a-view-versus-a-copy\n",
            "  shots['player'] = shots['player'].str.title()\n",
            "<ipython-input-24-456007cae282>:3: SettingWithCopyWarning: \n",
            "A value is trying to be set on a copy of a slice from a DataFrame.\n",
            "Try using .loc[row_indexer,col_indexer] = value instead\n",
            "\n",
            "See the caveats in the documentation: https://pandas.pydata.org/pandas-docs/stable/user_guide/indexing.html#returning-a-view-versus-a-copy\n",
            "  shots['player2'] = shots['player2'].str.title()\n",
            "<ipython-input-24-456007cae282>:4: SettingWithCopyWarning: \n",
            "A value is trying to be set on a copy of a slice from a DataFrame.\n",
            "Try using .loc[row_indexer,col_indexer] = value instead\n",
            "\n",
            "See the caveats in the documentation: https://pandas.pydata.org/pandas-docs/stable/user_guide/indexing.html#returning-a-view-versus-a-copy\n",
            "  shots['country'] = shots['country'].str.title()\n"
          ]
        }
      ]
    },
    {
      "cell_type": "code",
      "source": [
        "pie = shots[['shot_outcome', 'id_event']].groupby('shot_outcome').count().reset_index().rename(columns={'id_event': 'count'})"
      ],
      "metadata": {
        "id": "Q3u7iEVj04jG"
      },
      "execution_count": 25,
      "outputs": []
    },
    {
      "cell_type": "code",
      "source": [
        "pie.shot_outcome = pie.shot_outcome.astype(int)\n",
        "pie.shot_outcome = pie.shot_outcome.replace({1: 'On Target', 2: 'Off Target', 3: 'Blocked', 4: 'Hit the Bar'})"
      ],
      "metadata": {
        "id": "UM6_j1xR075t"
      },
      "execution_count": 26,
      "outputs": []
    },
    {
      "cell_type": "code",
      "source": [
        "fig, ax = plt.subplots(figsize=[8,8])\n",
        "labels = pie['shot_outcome']\n",
        "colors = ['#ff9999','#66b3ff','#99ff99','#ffcc99']\n",
        "plt.pie(x=pie['count'], autopct=\"%.1f%%\", labels=labels, explode=[0.06]*4, pctdistance=0.7, colors=colors, shadow=True, \\\n",
        "       textprops=dict(fontsize=16))\n",
        "plt.title(\"Shot Outcomes\", fontsize=26, fontfamily='serif')\n",
        "plt.tight_layout()\n",
        "plt.show()"
      ],
      "metadata": {
        "colab": {
          "base_uri": "https://localhost:8080/",
          "height": 672
        },
        "id": "FBgtg7kP078b",
        "outputId": "d91e0e23-adb3-49ff-efbc-773da4ed9e6f"
      },
      "execution_count": 27,
      "outputs": [
        {
          "output_type": "display_data",
          "data": {
            "text/plain": [
              "<Figure size 800x800 with 1 Axes>"
            ],
            "image/png": "[encoded data removed]"
          },
          "metadata": {}
        }
      ]
    },
    {
      "cell_type": "code",
      "source": [
        "bar = shots[['shot_place', 'id_event']].groupby('shot_place').count().reset_index().rename(columns={'id_event': 'count'})\n",
        "bar.shot_place = bar.shot_place.astype(int)\n",
        "bar.shot_place = bar.shot_place.replace({1: 'Bit too high', 2: 'Blocked', 3: 'Bottom left corner', 4: 'Bottom right corner', \\\n",
        "                                        5: 'Centre of the goal', 6: 'High and wide', 7: 'Hits the bar', 8: 'Misses to the left', \\\n",
        "                                        9: 'Misses to the right', 10: 'Too high', 11: 'Top centre of the goal', \\\n",
        "                                        12: 'Top left corner', 13: 'Top right corner'})"
      ],
      "metadata": {
        "id": "p5CBmb-008AR"
      },
      "execution_count": 28,
      "outputs": []
    },
    {
      "cell_type": "code",
      "source": [
        "sns.set_style(\"whitegrid\")\n",
        "fig, ax = plt.subplots(figsize=[13,6])\n",
        "labels = bar['shot_place']\n",
        "ax = sns.barplot(x=bar['count'], y=labels)\n",
        "ax.set_yticklabels(labels, size = 13)\n",
        "ax.set_xticks(np.arange(1000,57000,4000))\n",
        "ax.set_ylabel(ylabel='')\n",
        "plt.title(\"Shot Placement\", fontsize=25, fontfamily='serif')\n",
        "plt.tight_layout()\n",
        "ax.grid(color='black', linestyle='-', linewidth=0.1, axis='x')\n",
        "plt.show()"
      ],
      "metadata": {
        "colab": {
          "base_uri": "https://localhost:8080/",
          "height": 559
        },
        "id": "t7D1evL01Aer",
        "outputId": "e95ab067-81d4-4c65-dfc3-d301821124fd"
      },
      "execution_count": 29,
      "outputs": [
        {
          "output_type": "stream",
          "name": "stderr",
          "text": [
            "<ipython-input-29-9bfe44279c6e>:5: UserWarning: set_ticklabels() should only be used with a fixed number of ticks, i.e. after set_ticks() or using a FixedLocator.\n",
            "  ax.set_yticklabels(labels, size = 13)\n"
          ]
        },
        {
          "output_type": "display_data",
          "data": {
            "text/plain": [
              "<Figure size 1300x600 with 1 Axes>"
            ],
            "image/png": "[encoded data removed]"
          },
          "metadata": {}
        }
      ]
    },
    {
      "cell_type": "code",
      "source": [
        "goals  = shots[['is_goal', 'id_event', 'country']].groupby(['is_goal', 'country']).count().reset_index().rename(columns={'id_event': 'count'})\n",
        "goals.is_goal = goals.is_goal.replace({1: 'Goal', 0: 'No Goal'})"
      ],
      "metadata": {
        "id": "rBbNpyWJ1Ah1"
      },
      "execution_count": 30,
      "outputs": []
    },
    {
      "cell_type": "code",
      "source": [
        "goals['percentage']=0\n",
        "for i in range(len(goals)):\n",
        "    for country in goals.country.unique():\n",
        "        if goals.iloc[i,goals.columns.get_loc(\"country\")]==country:\n",
        "            goals.iloc[i,goals.columns.get_loc(\"percentage\")]=goals.iloc[i,goals.columns.get_loc(\"count\")] / \\\n",
        "                                                            goals[goals.country==country]['count'].sum()\n",
        "goals['percentage']=round(goals['percentage']*100,2)"
      ],
      "metadata": {
        "colab": {
          "base_uri": "https://localhost:8080/"
        },
        "id": "MH_OBrbd04om",
        "outputId": "be94ab32-f098-4cab-942c-06facd300428"
      },
      "execution_count": 31,
      "outputs": [
        {
          "output_type": "stream",
          "name": "stderr",
          "text": [
            "<ipython-input-31-25d25c6ae63e>:5: FutureWarning: Setting an item of incompatible dtype is deprecated and will raise an error in a future version of pandas. Value '0.8952583156404812' has dtype incompatible with int64, please explicitly cast to a compatible dtype first.\n",
            "  goals.iloc[i,goals.columns.get_loc(\"percentage\")]=goals.iloc[i,goals.columns.get_loc(\"count\")] / \\\n"
          ]
        }
      ]
    },
    {
      "cell_type": "code",
      "source": [
        "def show_values_on_bars(axs):\n",
        "    def _show_on_single_plot(ax):\n",
        "        for p in ax.patches:\n",
        "            _x = p.get_x() + p.get_width() / 2\n",
        "            _y = p.get_y() + p.get_height()\n",
        "            value = '{:.2f}%'.format(p.get_height())\n",
        "            ax.text(_x, _y+2, value, ha=\"center\", fontsize=14)\n",
        "\n",
        "    if isinstance(axs, np.ndarray):\n",
        "        for idx, ax in np.ndenumerate(axs):\n",
        "            _show_on_single_plot(ax)\n",
        "    else:\n",
        "        _show_on_single_plot(axs)"
      ],
      "metadata": {
        "id": "8AHzu7eO1Edj"
      },
      "execution_count": 32,
      "outputs": []
    },
    {
      "cell_type": "code",
      "source": [
        "sns.set_style(\"whitegrid\")\n",
        "fig, ax = plt.subplots(figsize=[14,6])\n",
        "colors = ['#ff9999','#66b3ff','#99ff99','#ffcc99']\n",
        "ax = sns.barplot(data=goals, y='percentage', hue='is_goal', x='country')\n",
        "ax.set_yticks(np.arange(0,110,10))\n",
        "ax.set_ylabel(ylabel='Percentage %', fontsize=15, fontfamily='serif')\n",
        "ax.set_xlabel(xlabel='League', fontsize=15, fontfamily='serif')\n",
        "ax.set_xticklabels(labels=ax.get_xticklabels(), fontsize=16, fontfamily='serif')\n",
        "plt.title(\"Goal/No-Goal per Country\", fontsize=24, fontfamily='serif')\n",
        "plt.tight_layout()\n",
        "ax.grid(color='black', linestyle='-', linewidth=0.1, axis='y')\n",
        "plt.legend(fontsize=12)\n",
        "show_values_on_bars(ax)\n",
        "plt.show()"
      ],
      "metadata": {
        "colab": {
          "base_uri": "https://localhost:8080/",
          "height": 524
        },
        "id": "1RmUXAKs1Egd",
        "outputId": "bd4394b2-9548-408e-c661-9995cefc79b7"
      },
      "execution_count": 33,
      "outputs": [
        {
          "output_type": "stream",
          "name": "stderr",
          "text": [
            "<ipython-input-33-b9e8e55408db>:8: UserWarning: set_ticklabels() should only be used with a fixed number of ticks, i.e. after set_ticks() or using a FixedLocator.\n",
            "  ax.set_xticklabels(labels=ax.get_xticklabels(), fontsize=16, fontfamily='serif')\n"
          ]
        },
        {
          "output_type": "display_data",
          "data": {
            "text/plain": [
              "<Figure size 1400x600 with 1 Axes>"
            ],
            "image/png": "[encoded data removed]"
          },
          "metadata": {}
        }
      ]
    },
    {
      "cell_type": "code",
      "source": [
        "players.info()"
      ],
      "metadata": {
        "colab": {
          "base_uri": "https://localhost:8080/",
          "height": 141
        },
        "id": "2-Z8slsi1Ei9",
        "outputId": "52483c29-14c5-4417-fc2c-d05bfdf4d577"
      },
      "execution_count": 39,
      "outputs": [
        {
          "output_type": "error",
          "ename": "NameError",
          "evalue": "name 'players' is not defined",
          "traceback": [
            "\u001b[0;31m---------------------------------------------------------------------------\u001b[0m",
            "\u001b[0;31mNameError\u001b[0m                                 Traceback (most recent call last)",
            "\u001b[0;32m<ipython-input-39-b3c963e34d0f>\u001b[0m in \u001b[0;36m<cell line: 0>\u001b[0;34m()\u001b[0m\n\u001b[0;32m----> 1\u001b[0;31m \u001b[0mplayers\u001b[0m\u001b[0;34m.\u001b[0m\u001b[0minfo\u001b[0m\u001b[0;34m(\u001b[0m\u001b[0;34m)\u001b[0m\u001b[0;34m\u001b[0m\u001b[0;34m\u001b[0m\u001b[0m\n\u001b[0m",
            "\u001b[0;31mNameError\u001b[0m: name 'players' is not defined"
          ]
        }
      ]
    },
    {
      "cell_type": "code",
      "source": [
        "df_pd = df.toPandas()\n",
        "data_shot = df_pd[df_pd.event_type == 1]\n",
        "data_shot = data_shot[data_shot.location != 19]\n",
        "X = data_shot[['time', 'side', 'bodypart', 'location', 'situation', 'assist_method', 'fast_break']]\n",
        "y = data_shot['is_goal']"
      ],
      "metadata": {
        "id": "IBoIY3qQ1KOh"
      },
      "execution_count": 40,
      "outputs": []
    },
    {
      "cell_type": "code",
      "source": [
        "from sklearn.model_selection import train_test_split\n",
        "\n",
        "X_train, X_test, y_train, y_test = train_test_split(X, y, train_size = 0.8, stratify = y)"
      ],
      "metadata": {
        "id": "tXQ7uVYK1KSi"
      },
      "execution_count": 41,
      "outputs": []
    },
    {
      "cell_type": "code",
      "source": [
        "from sklearn.ensemble import GradientBoostingClassifier\n",
        "model = GradientBoostingClassifier()\n",
        "model.fit(X_train, y_train)\n",
        "print('XGBoost model precision on test dataset : ', model.score(X_test, y_test) * 100)"
      ],
      "metadata": {
        "colab": {
          "base_uri": "https://localhost:8080/"
        },
        "id": "5W_nQeuP1Mu9",
        "outputId": "63422460-4cdf-4bf7-f86d-99c94ad1b788"
      },
      "execution_count": 42,
      "outputs": [
        {
          "output_type": "stream",
          "name": "stdout",
          "text": [
            "XGBoost model precision on test dataset :  91.10349793789688\n"
          ]
        }
      ]
    },
    {
      "cell_type": "code",
      "source": [
        "data_shot.is_goal.value_counts()"
      ],
      "metadata": {
        "colab": {
          "base_uri": "https://localhost:8080/",
          "height": 178
        },
        "id": "RnP2eXOI1Mxh",
        "outputId": "67e2891c-f9bf-4546-a47e-50ee6020898d"
      },
      "execution_count": 43,
      "outputs": [
        {
          "output_type": "execute_result",
          "data": {
            "text/plain": [
              "is_goal\n",
              "0    204694\n",
              "1     24441\n",
              "Name: count, dtype: int64"
            ],
            "text/html": [
              "<div>\n",
              "<style scoped>\n",
              "    .dataframe tbody tr th:only-of-type {\n",
              "        vertical-align: middle;\n",
              "    }\n",
              "\n",
              "    .dataframe tbody tr th {\n",
              "        vertical-align: top;\n",
              "    }\n",
              "\n",
              "    .dataframe thead th {\n",
              "        text-align: right;\n",
              "    }\n",
              "</style>\n",
              "<table border=\"1\" class=\"dataframe\">\n",
              "  <thead>\n",
              "    <tr style=\"text-align: right;\">\n",
              "      <th></th>\n",
              "      <th>count</th>\n",
              "    </tr>\n",
              "    <tr>\n",
              "      <th>is_goal</th>\n",
              "      <th></th>\n",
              "    </tr>\n",
              "  </thead>\n",
              "  <tbody>\n",
              "    <tr>\n",
              "      <th>0</th>\n",
              "      <td>204694</td>\n",
              "    </tr>\n",
              "    <tr>\n",
              "      <th>1</th>\n",
              "      <td>24441</td>\n",
              "    </tr>\n",
              "  </tbody>\n",
              "</table>\n",
              "</div><br><label><b>dtype:</b> int64</label>"
            ]
          },
          "metadata": {},
          "execution_count": 43
        }
      ]
    },
    {
      "cell_type": "code",
      "source": [
        "from sklearn.dummy import DummyClassifier\n",
        "\n",
        "dummy_clf = DummyClassifier(strategy=\"most_frequent\")\n",
        "dummy_clf.fit(X_test, y_test)\n",
        "score = dummy_clf.score(X_test, y_test)\n",
        "print('most frequent precision : ', score * 100, '%')"
      ],
      "metadata": {
        "colab": {
          "base_uri": "https://localhost:8080/"
        },
        "id": "zzp96r7g1Mz6",
        "outputId": "6cadf395-0f3d-41fc-c5a3-94c9e06c194b"
      },
      "execution_count": 44,
      "outputs": [
        {
          "output_type": "stream",
          "name": "stdout",
          "text": [
            "most frequent precision :  89.33379885220504 %\n"
          ]
        }
      ]
    },
    {
      "cell_type": "code",
      "source": [
        "probas = model.predict_proba(X)\n",
        "data_shot['xgoalpercent'] = probas[:,1]"
      ],
      "metadata": {
        "id": "mk6QmaiQ1M15"
      },
      "execution_count": 45,
      "outputs": []
    },
    {
      "cell_type": "code",
      "source": [
        "print('Maximum xG value for a shot : ', probas[:,1].max())\n",
        "print('Minimum xG value for a shot : ', probas[:,1].min())"
      ],
      "metadata": {
        "colab": {
          "base_uri": "https://localhost:8080/"
        },
        "id": "KcoRN3XD1a4s",
        "outputId": "d0e96460-c1a0-4beb-abb7-b2e142d9d01b"
      },
      "execution_count": 46,
      "outputs": [
        {
          "output_type": "stream",
          "name": "stdout",
          "text": [
            "Maximum xG value for a shot :  0.9840541855756146\n",
            "Minimum xG value for a shot :  0.007502991052742561\n"
          ]
        }
      ]
    },
    {
      "cell_type": "code",
      "source": [
        "list_of_players = data_shot.player.unique()\n",
        "print(list_of_players)"
      ],
      "metadata": {
        "colab": {
          "base_uri": "https://localhost:8080/"
        },
        "id": "x86x08Eu1a8N",
        "outputId": "f5316b3d-3418-4ac8-f561-604c45341332"
      },
      "execution_count": 47,
      "outputs": [
        {
          "output_type": "stream",
          "name": "stdout",
          "text": [
            "['mladen petric' 'shinji kagawa' 'kevin grosskreutz' ... 'alhassan wakaso'\n",
            " 'roman zozulia' 'alessandro bastoni']\n"
          ]
        }
      ]
    },
    {
      "cell_type": "code",
      "source": [
        "players = shots.groupby('player').sum().reset_index()\n",
        "players.rename(columns={'is_goal': 'trueGoals', 'prediction': 'expectedGoals'}, inplace=True)\n",
        "players.expectedGoals = round(players.expectedGoals,2)\n",
        "players.difference = round(players.difference,2)\n",
        "players['ratio'] = players['trueGoals'] / players['expectedGoals']"
      ],
      "metadata": {
        "colab": {
          "base_uri": "https://localhost:8080/",
          "height": 332
        },
        "id": "E7sWQY211a-f",
        "outputId": "a5fd6108-4867-499d-db63-d7452c7f5751"
      },
      "execution_count": 48,
      "outputs": [
        {
          "output_type": "error",
          "ename": "AttributeError",
          "evalue": "'DataFrame' object has no attribute 'expectedGoals'",
          "traceback": [
            "\u001b[0;31m---------------------------------------------------------------------------\u001b[0m",
            "\u001b[0;31mAttributeError\u001b[0m                            Traceback (most recent call last)",
            "\u001b[0;32m<ipython-input-48-0a23b131b6e9>\u001b[0m in \u001b[0;36m<cell line: 0>\u001b[0;34m()\u001b[0m\n\u001b[1;32m      1\u001b[0m \u001b[0mplayers\u001b[0m \u001b[0;34m=\u001b[0m \u001b[0mshots\u001b[0m\u001b[0;34m.\u001b[0m\u001b[0mgroupby\u001b[0m\u001b[0;34m(\u001b[0m\u001b[0;34m'player'\u001b[0m\u001b[0;34m)\u001b[0m\u001b[0;34m.\u001b[0m\u001b[0msum\u001b[0m\u001b[0;34m(\u001b[0m\u001b[0;34m)\u001b[0m\u001b[0;34m.\u001b[0m\u001b[0mreset_index\u001b[0m\u001b[0;34m(\u001b[0m\u001b[0;34m)\u001b[0m\u001b[0;34m\u001b[0m\u001b[0;34m\u001b[0m\u001b[0m\n\u001b[1;32m      2\u001b[0m \u001b[0mplayers\u001b[0m\u001b[0;34m.\u001b[0m\u001b[0mrename\u001b[0m\u001b[0;34m(\u001b[0m\u001b[0mcolumns\u001b[0m\u001b[0;34m=\u001b[0m\u001b[0;34m{\u001b[0m\u001b[0;34m'is_goal'\u001b[0m\u001b[0;34m:\u001b[0m \u001b[0;34m'trueGoals'\u001b[0m\u001b[0;34m,\u001b[0m \u001b[0;34m'prediction'\u001b[0m\u001b[0;34m:\u001b[0m \u001b[0;34m'expectedGoals'\u001b[0m\u001b[0;34m}\u001b[0m\u001b[0;34m,\u001b[0m \u001b[0minplace\u001b[0m\u001b[0;34m=\u001b[0m\u001b[0;32mTrue\u001b[0m\u001b[0;34m)\u001b[0m\u001b[0;34m\u001b[0m\u001b[0;34m\u001b[0m\u001b[0m\n\u001b[0;32m----> 3\u001b[0;31m \u001b[0mplayers\u001b[0m\u001b[0;34m.\u001b[0m\u001b[0mexpectedGoals\u001b[0m \u001b[0;34m=\u001b[0m \u001b[0mround\u001b[0m\u001b[0;34m(\u001b[0m\u001b[0mplayers\u001b[0m\u001b[0;34m.\u001b[0m\u001b[0mexpectedGoals\u001b[0m\u001b[0;34m,\u001b[0m\u001b[0;36m2\u001b[0m\u001b[0;34m)\u001b[0m\u001b[0;34m\u001b[0m\u001b[0;34m\u001b[0m\u001b[0m\n\u001b[0m\u001b[1;32m      4\u001b[0m \u001b[0mplayers\u001b[0m\u001b[0;34m.\u001b[0m\u001b[0mdifference\u001b[0m \u001b[0;34m=\u001b[0m \u001b[0mround\u001b[0m\u001b[0;34m(\u001b[0m\u001b[0mplayers\u001b[0m\u001b[0;34m.\u001b[0m\u001b[0mdifference\u001b[0m\u001b[0;34m,\u001b[0m\u001b[0;36m2\u001b[0m\u001b[0;34m)\u001b[0m\u001b[0;34m\u001b[0m\u001b[0;34m\u001b[0m\u001b[0m\n\u001b[1;32m      5\u001b[0m \u001b[0mplayers\u001b[0m\u001b[0;34m[\u001b[0m\u001b[0;34m'ratio'\u001b[0m\u001b[0;34m]\u001b[0m \u001b[0;34m=\u001b[0m \u001b[0mplayers\u001b[0m\u001b[0;34m[\u001b[0m\u001b[0;34m'trueGoals'\u001b[0m\u001b[0;34m]\u001b[0m \u001b[0;34m/\u001b[0m \u001b[0mplayers\u001b[0m\u001b[0;34m[\u001b[0m\u001b[0;34m'expectedGoals'\u001b[0m\u001b[0;34m]\u001b[0m\u001b[0;34m\u001b[0m\u001b[0;34m\u001b[0m\u001b[0m\n",
            "\u001b[0;32m/usr/local/lib/python3.11/dist-packages/pandas/core/generic.py\u001b[0m in \u001b[0;36m__getattr__\u001b[0;34m(self, name)\u001b[0m\n\u001b[1;32m   6297\u001b[0m         ):\n\u001b[1;32m   6298\u001b[0m             \u001b[0;32mreturn\u001b[0m \u001b[0mself\u001b[0m\u001b[0;34m[\u001b[0m\u001b[0mname\u001b[0m\u001b[0;34m]\u001b[0m\u001b[0;34m\u001b[0m\u001b[0;34m\u001b[0m\u001b[0m\n\u001b[0;32m-> 6299\u001b[0;31m         \u001b[0;32mreturn\u001b[0m \u001b[0mobject\u001b[0m\u001b[0;34m.\u001b[0m\u001b[0m__getattribute__\u001b[0m\u001b[0;34m(\u001b[0m\u001b[0mself\u001b[0m\u001b[0;34m,\u001b[0m \u001b[0mname\u001b[0m\u001b[0;34m)\u001b[0m\u001b[0;34m\u001b[0m\u001b[0;34m\u001b[0m\u001b[0m\n\u001b[0m\u001b[1;32m   6300\u001b[0m \u001b[0;34m\u001b[0m\u001b[0m\n\u001b[1;32m   6301\u001b[0m     \u001b[0;34m@\u001b[0m\u001b[0mfinal\u001b[0m\u001b[0;34m\u001b[0m\u001b[0;34m\u001b[0m\u001b[0m\n",
            "\u001b[0;31mAttributeError\u001b[0m: 'DataFrame' object has no attribute 'expectedGoals'"
          ]
        }
      ]
    },
    {
      "cell_type": "code",
      "source": [
        "print(round(players.expectedGoals.corr(players.trueGoals),3))"
      ],
      "metadata": {
        "colab": {
          "base_uri": "https://localhost:8080/",
          "height": 263
        },
        "id": "S_mc0UIZ1KVM",
        "outputId": "999336ba-4968-428b-a4f2-fe1c7951ff7c"
      },
      "execution_count": 49,
      "outputs": [
        {
          "output_type": "error",
          "ename": "AttributeError",
          "evalue": "'DataFrame' object has no attribute 'expectedGoals'",
          "traceback": [
            "\u001b[0;31m---------------------------------------------------------------------------\u001b[0m",
            "\u001b[0;31mAttributeError\u001b[0m                            Traceback (most recent call last)",
            "\u001b[0;32m<ipython-input-49-7bfba9ad29c2>\u001b[0m in \u001b[0;36m<cell line: 0>\u001b[0;34m()\u001b[0m\n\u001b[0;32m----> 1\u001b[0;31m \u001b[0mprint\u001b[0m\u001b[0;34m(\u001b[0m\u001b[0mround\u001b[0m\u001b[0;34m(\u001b[0m\u001b[0mplayers\u001b[0m\u001b[0;34m.\u001b[0m\u001b[0mexpectedGoals\u001b[0m\u001b[0;34m.\u001b[0m\u001b[0mcorr\u001b[0m\u001b[0;34m(\u001b[0m\u001b[0mplayers\u001b[0m\u001b[0;34m.\u001b[0m\u001b[0mtrueGoals\u001b[0m\u001b[0;34m)\u001b[0m\u001b[0;34m,\u001b[0m\u001b[0;36m3\u001b[0m\u001b[0;34m)\u001b[0m\u001b[0;34m)\u001b[0m\u001b[0;34m\u001b[0m\u001b[0;34m\u001b[0m\u001b[0m\n\u001b[0m",
            "\u001b[0;32m/usr/local/lib/python3.11/dist-packages/pandas/core/generic.py\u001b[0m in \u001b[0;36m__getattr__\u001b[0;34m(self, name)\u001b[0m\n\u001b[1;32m   6297\u001b[0m         ):\n\u001b[1;32m   6298\u001b[0m             \u001b[0;32mreturn\u001b[0m \u001b[0mself\u001b[0m\u001b[0;34m[\u001b[0m\u001b[0mname\u001b[0m\u001b[0;34m]\u001b[0m\u001b[0;34m\u001b[0m\u001b[0;34m\u001b[0m\u001b[0m\n\u001b[0;32m-> 6299\u001b[0;31m         \u001b[0;32mreturn\u001b[0m \u001b[0mobject\u001b[0m\u001b[0;34m.\u001b[0m\u001b[0m__getattribute__\u001b[0m\u001b[0;34m(\u001b[0m\u001b[0mself\u001b[0m\u001b[0;34m,\u001b[0m \u001b[0mname\u001b[0m\u001b[0;34m)\u001b[0m\u001b[0;34m\u001b[0m\u001b[0;34m\u001b[0m\u001b[0m\n\u001b[0m\u001b[1;32m   6300\u001b[0m \u001b[0;34m\u001b[0m\u001b[0m\n\u001b[1;32m   6301\u001b[0m     \u001b[0;34m@\u001b[0m\u001b[0mfinal\u001b[0m\u001b[0;34m\u001b[0m\u001b[0;34m\u001b[0m\u001b[0m\n",
            "\u001b[0;31mAttributeError\u001b[0m: 'DataFrame' object has no attribute 'expectedGoals'"
          ]
        }
      ]
    }
  ]
}